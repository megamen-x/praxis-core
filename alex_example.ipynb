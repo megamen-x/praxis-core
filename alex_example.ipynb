{
 "cells": [
  {
   "cell_type": "markdown",
   "id": "6eb4cf7e",
   "metadata": {},
   "source": [
    "### Что за поля\n",
    "data_dict - анализ сторон (sides из dict) \\\n",
    "rec_dict - рекомендации (recommendations из dict) \\\n",
    "numeric_values - числовые фичи (чуть подробнее ниже) \\\n",
    "employee_name - имя чубрика"
   ]
  },
  {
   "cell_type": "markdown",
   "id": "baec130d",
   "metadata": {},
   "source": [
    "### Numeric values\n",
    "\n",
    "1. Если оценка 180 - имеют только 1 пару ключ-значение, ключ ВСЕГДА self-esteem\n",
    "2. Если оценка 360 - имеют 2 пары ключ-значение, ВСЕГДА ключи только self-esteem и manage-esteem\n",
    "\n",
    "Пример:\n",
    "```\n",
    "numeric_values = {\n",
    "    \"self-esteem\": {\n",
    "        \"Стратегическое мышление\": 84,\n",
    "        \"Коммуникация\": 70,\n",
    "        \"Командная работа\": 93,\n",
    "        \"Клиентоориентированность\": 89,\n",
    "        \"Лидерство\": 74,\n",
    "        \"Ответственность\": 87,\n",
    "    }\n",
    "}\n",
    "```"
   ]
  },
  {
   "cell_type": "code",
   "execution_count": null,
   "id": "aeb2ffdb",
   "metadata": {},
   "outputs": [],
   "source": [
    "from src.llm_agg.reports.jinja import create_report"
   ]
  },
  {
   "cell_type": "code",
   "execution_count": null,
   "id": "7bb0cee3",
   "metadata": {},
   "outputs": [],
   "source": [
    "create_report(\n",
    "    templates_dir=\"/mnt/d/vscode_projects/praxis-core/jinja_templates\", # птуь до папки с шаблонами, без имени самого шаблона\n",
    "    template_name=\"base.html.jinja\", # имя самого шаблона\n",
    "    sides_json=data_dict,\n",
    "    recommendations_json=rec_dict,\n",
    "    numeric_values=numeric_values,\n",
    "    employee_name=employee_name,\n",
    "    visualization_url=None,\n",
    "    quotes_layout=\"inline\",\n",
    "    mark_name=\"180°\",\n",
    "    write_intermediate_html=True,\n",
    ")"
   ]
  },
  {
   "cell_type": "code",
   "execution_count": null,
   "id": "c2634099",
   "metadata": {},
   "outputs": [],
   "source": []
  }
 ],
 "metadata": {
  "language_info": {
   "name": "python"
  }
 },
 "nbformat": 4,
 "nbformat_minor": 5
}
