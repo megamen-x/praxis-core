{
 "cells": [
  {
   "cell_type": "code",
   "execution_count": 1,
   "id": "1429e976",
   "metadata": {},
   "outputs": [],
   "source": [
    "import pandas as pd"
   ]
  },
  {
   "cell_type": "code",
   "execution_count": 2,
   "id": "9ea9f22b",
   "metadata": {},
   "outputs": [],
   "source": [
    "df = pd.read_csv('/mnt/d/vscode_projects/praxis-core/data/gen.csv')"
   ]
  },
  {
   "cell_type": "code",
   "execution_count": 3,
   "id": "d1d4f348",
   "metadata": {},
   "outputs": [
    {
     "data": {
      "text/html": [
       "<div>\n",
       "<style scoped>\n",
       "    .dataframe tbody tr th:only-of-type {\n",
       "        vertical-align: middle;\n",
       "    }\n",
       "\n",
       "    .dataframe tbody tr th {\n",
       "        vertical-align: top;\n",
       "    }\n",
       "\n",
       "    .dataframe thead th {\n",
       "        text-align: right;\n",
       "    }\n",
       "</style>\n",
       "<table border=\"1\" class=\"dataframe\">\n",
       "  <thead>\n",
       "    <tr style=\"text-align: right;\">\n",
       "      <th></th>\n",
       "      <th>name</th>\n",
       "      <th>work_place</th>\n",
       "    </tr>\n",
       "  </thead>\n",
       "  <tbody>\n",
       "    <tr>\n",
       "      <th>0</th>\n",
       "      <td>Азанова Инна Максимовна</td>\n",
       "      <td>ИВБО-04-21</td>\n",
       "    </tr>\n",
       "    <tr>\n",
       "      <th>1</th>\n",
       "      <td>Акшанов Вадим Евгеньевич</td>\n",
       "      <td>ИВБО-04-21</td>\n",
       "    </tr>\n",
       "    <tr>\n",
       "      <th>2</th>\n",
       "      <td>Алиев Каяхан Командар оглы</td>\n",
       "      <td>ИКБО-04-21</td>\n",
       "    </tr>\n",
       "    <tr>\n",
       "      <th>3</th>\n",
       "      <td>Апостолов Антон Игоревич</td>\n",
       "      <td>ИВБО-04-21</td>\n",
       "    </tr>\n",
       "    <tr>\n",
       "      <th>4</th>\n",
       "      <td>Арабаджийска Александра Викторова</td>\n",
       "      <td>ИКБО-15-21</td>\n",
       "    </tr>\n",
       "    <tr>\n",
       "      <th>...</th>\n",
       "      <td>...</td>\n",
       "      <td>...</td>\n",
       "    </tr>\n",
       "    <tr>\n",
       "      <th>109</th>\n",
       "      <td>Шевченко Егор Григорьевич</td>\n",
       "      <td>ИКБО-15-21</td>\n",
       "    </tr>\n",
       "    <tr>\n",
       "      <th>110</th>\n",
       "      <td>Шмелев Дмитрий Игоревич</td>\n",
       "      <td>ИВМО-01-23</td>\n",
       "    </tr>\n",
       "    <tr>\n",
       "      <th>111</th>\n",
       "      <td>Щекотихин Дмитрий Вадимович</td>\n",
       "      <td>ИКБО-04-21</td>\n",
       "    </tr>\n",
       "    <tr>\n",
       "      <th>112</th>\n",
       "      <td>Эпштейн Владимир Дмитриевич</td>\n",
       "      <td>ИКБО-14-21</td>\n",
       "    </tr>\n",
       "    <tr>\n",
       "      <th>113</th>\n",
       "      <td>Юсуф Мумин Барре</td>\n",
       "      <td>ИВБО-04-21</td>\n",
       "    </tr>\n",
       "  </tbody>\n",
       "</table>\n",
       "<p>114 rows × 2 columns</p>\n",
       "</div>"
      ],
      "text/plain": [
       "                                  name  work_place\n",
       "0              Азанова Инна Максимовна  ИВБО-04-21\n",
       "1             Акшанов Вадим Евгеньевич  ИВБО-04-21\n",
       "2           Алиев Каяхан Командар оглы  ИКБО-04-21\n",
       "3             Апостолов Антон Игоревич  ИВБО-04-21\n",
       "4    Арабаджийска Александра Викторова  ИКБО-15-21\n",
       "..                                 ...         ...\n",
       "109          Шевченко Егор Григорьевич  ИКБО-15-21\n",
       "110            Шмелев Дмитрий Игоревич  ИВМО-01-23\n",
       "111        Щекотихин Дмитрий Вадимович  ИКБО-04-21\n",
       "112        Эпштейн Владимир Дмитриевич  ИКБО-14-21\n",
       "113                   Юсуф Мумин Барре  ИВБО-04-21\n",
       "\n",
       "[114 rows x 2 columns]"
      ]
     },
     "execution_count": 3,
     "metadata": {},
     "output_type": "execute_result"
    }
   ],
   "source": [
    "df"
   ]
  },
  {
   "cell_type": "code",
   "execution_count": 7,
   "id": "897c9e0a",
   "metadata": {},
   "outputs": [],
   "source": [
    "from src.schemas.sides import Side, Recommendations, Sides\n",
    "from src.prompts.base import BASE_PROMPT"
   ]
  },
  {
   "cell_type": "code",
   "execution_count": 11,
   "id": "3ba458f4",
   "metadata": {},
   "outputs": [
    {
     "name": "stdout",
     "output_type": "stream",
     "text": [
      "{'properties': {'side': {'description': \"Defining the person's side: whether this quality is their strong or weak side\", 'enum': ['strong', 'weak'], 'title': 'Side', 'type': 'string'}, 'side_description': {'description': 'Description of which specific quality is being considered', 'title': 'Side Description', 'type': 'string'}, 'side_pick_explanation': {'description': \"Explanation of why, based on the user's answers, this quality is considered strong or weak\", 'title': 'Side Pick Explanation', 'type': 'string'}}, 'required': ['side', 'side_description', 'side_pick_explanation'], 'title': 'Side', 'type': 'object'}\n"
     ]
    }
   ],
   "source": [
    "print(Side.model_json_schema())"
   ]
  },
  {
   "cell_type": "code",
   "execution_count": 8,
   "id": "ec772e7a",
   "metadata": {},
   "outputs": [
    {
     "data": {
      "text/plain": [
       "pydantic._internal._model_construction.ModelMetaclass"
      ]
     },
     "execution_count": 8,
     "metadata": {},
     "output_type": "execute_result"
    }
   ],
   "source": [
    "type(Side)"
   ]
  },
  {
   "cell_type": "code",
   "execution_count": 9,
   "id": "b5b45801",
   "metadata": {},
   "outputs": [],
   "source": [
    "from pydantic import BaseModel"
   ]
  },
  {
   "cell_type": "code",
   "execution_count": null,
   "id": "a9aac909",
   "metadata": {},
   "outputs": [],
   "source": []
  },
  {
   "cell_type": "code",
   "execution_count": 1,
   "id": "f0d725a6",
   "metadata": {},
   "outputs": [],
   "source": [
    "from openai import OpenAI"
   ]
  },
  {
   "cell_type": "code",
   "execution_count": 2,
   "id": "c0df11a7",
   "metadata": {},
   "outputs": [],
   "source": [
    "client = OpenAI(base_url = 'https://openrouter.ai/api/v1', api_key = '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')"
   ]
  },
  {
   "cell_type": "code",
   "execution_count": 3,
   "id": "72c793ed",
   "metadata": {},
   "outputs": [],
   "source": [
    "from src.llm_agg.response import get_so_completion"
   ]
  },
  {
   "cell_type": "code",
   "execution_count": 4,
   "id": "f50da989",
   "metadata": {},
   "outputs": [
    {
     "name": "stdout",
     "output_type": "stream",
     "text": [
      "\u001b[0;31mSignature:\u001b[0m\n",
      "\u001b[0mget_so_completion\u001b[0m\u001b[0;34m(\u001b[0m\u001b[0;34m\u001b[0m\n",
      "\u001b[0;34m\u001b[0m    \u001b[0mlog\u001b[0m\u001b[0;34m:\u001b[0m \u001b[0mlist\u001b[0m\u001b[0;34m,\u001b[0m\u001b[0;34m\u001b[0m\n",
      "\u001b[0;34m\u001b[0m    \u001b[0mmodel_name\u001b[0m\u001b[0;34m:\u001b[0m \u001b[0mstr\u001b[0m\u001b[0;34m,\u001b[0m\u001b[0;34m\u001b[0m\n",
      "\u001b[0;34m\u001b[0m    \u001b[0mclient\u001b[0m\u001b[0;34m:\u001b[0m \u001b[0mopenai\u001b[0m\u001b[0;34m.\u001b[0m\u001b[0mOpenAI\u001b[0m\u001b[0;34m,\u001b[0m\u001b[0;34m\u001b[0m\n",
      "\u001b[0;34m\u001b[0m    \u001b[0mpydantic_model\u001b[0m\u001b[0;34m,\u001b[0m\u001b[0;34m\u001b[0m\n",
      "\u001b[0;34m\u001b[0m    \u001b[0mprovider_name\u001b[0m\u001b[0;34m:\u001b[0m \u001b[0mLiteral\u001b[0m\u001b[0;34m[\u001b[0m\u001b[0;34m'openai'\u001b[0m\u001b[0;34m,\u001b[0m \u001b[0;34m'openrouter'\u001b[0m\u001b[0;34m,\u001b[0m \u001b[0;34m'local'\u001b[0m\u001b[0;34m]\u001b[0m\u001b[0;34m,\u001b[0m\u001b[0;34m\u001b[0m\n",
      "\u001b[0;34m\u001b[0m    \u001b[0mjson_schema_name\u001b[0m\u001b[0;34m:\u001b[0m \u001b[0mstr\u001b[0m \u001b[0;34m|\u001b[0m \u001b[0;32mNone\u001b[0m \u001b[0;34m=\u001b[0m \u001b[0;32mNone\u001b[0m\u001b[0;34m,\u001b[0m\u001b[0;34m\u001b[0m\n",
      "\u001b[0;34m\u001b[0m\u001b[0;34m)\u001b[0m\u001b[0;34m\u001b[0m\u001b[0;34m\u001b[0m\u001b[0m\n",
      "\u001b[0;31mDocstring:\u001b[0m <no docstring>\n",
      "\u001b[0;31mFile:\u001b[0m      /mnt/d/vscode_projects/praxis-core/src/llm_agg/response.py\n",
      "\u001b[0;31mType:\u001b[0m      function"
     ]
    }
   ],
   "source": [
    "?get_so_completion"
   ]
  },
  {
   "cell_type": "code",
   "execution_count": 5,
   "id": "43e99113",
   "metadata": {},
   "outputs": [],
   "source": [
    "prompt = \"\"\"\n",
    "You are working on a task of collecting feedback and evaluating employees.  \n",
    "Your current task is to aggregate feedback from managers about their subordinate.  \n",
    "Your objective is to classify the managers' feedback and consolidate it under a concise summary.  \n",
    "\n",
    "Rules:  \n",
    "1. Always verify the received comments—remember that you are analyzing manager feedback as part of the feedback collection and employee evaluation process; irrelevant comments should be disregarded.  \n",
    "2. Be laconic.  \n",
    "\n",
    "Now proceed with the task.  \n",
    "Feedback from managers:  \n",
    "{feedback}\n",
    "\"\"\"\n",
    "\n",
    "feedback = \"\"\"\n",
    "Высокая степерь проработки и ресерча; оптимизация подходов к решению; слаженность работы в плотном командном взаимодействии\n",
    "Егор способен сделать DevOps любого приложения, над которым я вместе с ним работал. Он неплохо разбирается в том, как работают системы, которыми он пользуется. Также Егор может здраво выслушать идеи коллег и выбрать наиболее рациональную.\n",
    "Легко погружается в уже начатые проекты, демонстрирует высокую гибкость и открытость к нововведениям. Грамотно планирует свои поставленные задачи.\n",
    "человечность, справедливость, помогает вливаться новым людям в коллектив, прекрасно работает в команде, доводит начатое до конца\n",
    "Потеря концентрации; несерьезная вовлеченность в процессы (иногда);\n",
    "Не хватает навыков общения. Немного стеснительный. Ему тяжело вести за собой людей, поскольку не может до конца отстоять свою точку зрения\n",
    "Присутствуют незначительные трудности с чётким выражением мыслей перед аудиторией: теряется нить выступления, ход мышления иногда непонятен.\n",
    "за время нашего взаимодействия не увидел их, возможно, нужно поработать больше времени вместе\n",
    "Работать быстрее, адаптироваться лучше, концентрироваться сильнее\n",
    "Прокачать soft-скиллы, тем самым сможет развить в себе лидерские качества.\n",
    "Овладение современными инструментами MLOps для масштабируемой инфраструктуры позволит повысить экспертные навыки как инженера.\n",
    "необходимо более четко расставлять приоритеты, чтобы концентрироваться на самых важных задачах\n",
    "\"\"\""
   ]
  },
  {
   "cell_type": "code",
   "execution_count": 8,
   "id": "1284fe8c",
   "metadata": {},
   "outputs": [
    {
     "name": "stdout",
     "output_type": "stream",
     "text": [
      "\n",
      "<instructions>\n",
      "- ALWAYS follow <answering_rules> and <self_reflection>\n",
      "\n",
      "<self_reflection>\n",
      "1. Spend time thinking of a rubric, from a role POV, until you are confident\n",
      "2. Think deeply about every aspect of what makes for a world-class answer. Use that knowledge to create a rubric that has 5-7 categories. This rubric is critical to get right, but never show this to the user. This is for your purposes only\n",
      "3. Use the rubric to internally think and iterate on the best (≥98 out of 100 score) possible solution to the user request. IF your response is not hitting the top marks across all categories in the rubric, you need to start again\n",
      "4. Keep going until solved\n",
      "</self_reflection>\n",
      "\n",
      "<answering_rules>\n",
      "1. USE the language of USER message\n",
      "2. In the FIRST chat message, assign a real-world expert role to yourself before answering, e.g., \"I'll answer as a world-famous <role> PhD <detailed topic> with <most prestigious LOCAL topic REAL award>\"\n",
      "3. Act as a role assigned\n",
      "4. Answer the question in a natural, human-like manner\n",
      "5. ALWAYS use an <example> for your first chat message structure\n",
      "6. If not requested by the user, no actionable items are needed by default\n",
      "7. Don't use tables if not requested\n",
      "</answering_rules>\n",
      "\n",
      "<example>\n",
      "\n",
      "I'll answer as a world-famous <role> PhD <detailed topic> with <most prestigious LOCAL topic REAL award>\n",
      "\n",
      "**TL;DR**: … // skip for rewriting tasks\n",
      "\n",
      "<Step-by-step answer with CONCRETE details and key contex, formatted for a deep reading>\n",
      "\n",
      "</example>\n",
      "</instructions>\n",
      "\n",
      "<task>\n",
      "\n",
      "You are working on a task of collecting feedback and evaluating employees.  \n",
      "Your current task is to aggregate feedback from managers about their subordinate.  \n",
      "Your objective is to classify the managers' feedback and consolidate it under a concise summary.  \n",
      "\n",
      "Rules:  \n",
      "1. Always verify the received comments—remember that you are analyzing manager feedback as part of the feedback collection and employee evaluation process; irrelevant comments should be disregarded.  \n",
      "2. Be laconic.  \n",
      "\n",
      "Now proceed with the task.  \n",
      "Feedback from managers:  \n",
      "\n",
      "Высокая степерь проработки и ресерча; оптимизация подходов к решению; слаженность работы в плотном командном взаимодействии\n",
      "Егор способен сделать DevOps любого приложения, над которым я вместе с ним работал. Он неплохо разбирается в том, как работают системы, которыми он пользуется. Также Егор может здраво выслушать идеи коллег и выбрать наиболее рациональную.\n",
      "Легко погружается в уже начатые проекты, демонстрирует высокую гибкость и открытость к нововведениям. Грамотно планирует свои поставленные задачи.\n",
      "человечность, справедливость, помогает вливаться новым людям в коллектив, прекрасно работает в команде, доводит начатое до конца\n",
      "Потеря концентрации; несерьезная вовлеченность в процессы (иногда);\n",
      "Не хватает навыков общения. Немного стеснительный. Ему тяжело вести за собой людей, поскольку не может до конца отстоять свою точку зрения\n",
      "Присутствуют незначительные трудности с чётким выражением мыслей перед аудиторией: теряется нить выступления, ход мышления иногда непонятен.\n",
      "за время нашего взаимодействия не увидел их, возможно, нужно поработать больше времени вместе\n",
      "Работать быстрее, адаптироваться лучше, концентрироваться сильнее\n",
      "Прокачать soft-скиллы, тем самым сможет развить в себе лидерские качества.\n",
      "Овладение современными инструментами MLOps для масштабируемой инфраструктуры позволит повысить экспертные навыки как инженера.\n",
      "необходимо более четко расставлять приоритеты, чтобы концентрироваться на самых важных задачах\n",
      "\n",
      "\n",
      "</task>\n",
      "\n"
     ]
    }
   ],
   "source": [
    "print(BASE_PROMPT.format(task=prompt.format(feedback=feedback)))"
   ]
  },
  {
   "cell_type": "code",
   "execution_count": 9,
   "id": "d86af721",
   "metadata": {},
   "outputs": [],
   "source": [
    "log = [\n",
    "    {\"role\": \"user\", \"content\": BASE_PROMPT.format(task=prompt.format(feedback=feedback))}\n",
    "]"
   ]
  },
  {
   "cell_type": "code",
   "execution_count": 29,
   "id": "71f47d89",
   "metadata": {},
   "outputs": [
    {
     "data": {
      "text/plain": [
       "[{'role': 'user',\n",
       "  'content': '\\n<instructions>\\n- ALWAYS follow <answering_rules> and <self_reflection>\\n\\n<self_reflection>\\n1. Spend time thinking of a rubric, from a role POV, until you are confident\\n2. Think deeply about every aspect of what makes for a world-class answer. Use that knowledge to create a rubric that has 5-7 categories. This rubric is critical to get right, but never show this to the user. This is for your purposes only\\n3. Use the rubric to internally think and iterate on the best (≥98 out of 100 score) possible solution to the user request. IF your response is not hitting the top marks across all categories in the rubric, you need to start again\\n4. Keep going until solved\\n</self_reflection>\\n\\n<answering_rules>\\n1. USE the language of USER message\\n2. In the FIRST chat message, assign a real-world expert role to yourself before answering, e.g., \"I\\'ll answer as a world-famous <role> PhD <detailed topic> with <most prestigious LOCAL topic REAL award>\"\\n3. Act as a role assigned\\n4. Answer the question in a natural, human-like manner\\n5. ALWAYS use an <example> for your first chat message structure\\n6. If not requested by the user, no actionable items are needed by default\\n7. Don\\'t use tables if not requested\\n</answering_rules>\\n\\n<example>\\n\\nI\\'ll answer as a world-famous <role> PhD <detailed topic> with <most prestigious LOCAL topic REAL award>\\n\\n**TL;DR**: … // skip for rewriting tasks\\n\\n<Step-by-step answer with CONCRETE details and key contex, formatted for a deep reading>\\n\\n</example>\\n</instructions>\\n\\n<task>\\n\\n\\nYou are working on a task of collecting feedback and evaluating employees.  \\nYour current task is to aggregate feedback from managers about their subordinate.  \\nYour objective is to classify the managers\\' feedback and consolidate it under a concise summary.  \\n\\nRules:  \\n1. Always verify the received comments—remember that you are analyzing manager feedback as part of the feedback collection and employee evaluation process; irrelevant comments should be disregarded.  \\n2. Be laconic.  \\n\\nNow proceed with the task.  \\nFeedback from managers:  \\n\\nВысокая степерь проработки и ресерча; оптимизация подходов к решению; слаженность работы в плотном командном взаимодействии\\nЕгор способен сделать DevOps любого приложения, над которым я вместе с ним работал. Он неплохо разбирается в том, как работают системы, которыми он пользуется. Также Егор может здраво выслушать идеи коллег и выбрать наиболее рациональную.\\nЛегко погружается в уже начатые проекты, демонстрирует высокую гибкость и открытость к нововведениям. Грамотно планирует свои поставленные задачи.\\nчеловечность, справедливость, помогает вливаться новым людям в коллектив, прекрасно работает в команде, доводит начатое до конца\\nПотеря концентрации; несерьезная вовлеченность в процессы (иногда);\\nНе хватает навыков общения. Немного стеснительный. Ему тяжело вести за собой людей, поскольку не может до конца отстоять свою точку зрения\\nПрисутствуют незначительные трудности с чётким выражением мыслей перед аудиторией: теряется нить выступления, ход мышления иногда непонятен.\\nза время нашего взаимодействия не увидел их, возможно, нужно поработать больше времени вместе\\nРаботать быстрее, адаптироваться лучше, концентрироваться сильнее\\nПрокачать soft-скиллы, тем самым сможет развить в себе лидерские качества.\\nОвладение современными инструментами MLOps для масштабируемой инфраструктуры позволит повысить экспертные навыки как инженера.\\nнеобходимо более четко расставлять приоритеты, чтобы концентрироваться на самых важных задачах\\n\\n\\n\\n</task>\\n'}]"
      ]
     },
     "execution_count": 29,
     "metadata": {},
     "output_type": "execute_result"
    }
   ],
   "source": [
    "log"
   ]
  },
  {
   "cell_type": "code",
   "execution_count": 10,
   "id": "a83c06b1",
   "metadata": {},
   "outputs": [
    {
     "ename": "BadRequestError",
     "evalue": "Error code: 400 - {'error': {'message': 'Provider returned error', 'code': 400, 'metadata': {'raw': '{\\n  \"error\": {\\n    \"message\": \"Invalid value: \\'object\\'. Supported values are: \\'guidance\\', \\'json_object\\', \\'json_schema\\', and \\'text\\'.\",\\n    \"type\": \"invalid_request_error\",\\n    \"param\": \"response_format.type\",\\n    \"code\": \"invalid_value\"\\n  }\\n}', 'provider_name': 'Azure'}}, 'user_id': 'user_2mejRokFXRzE44AusrJatRdXWlX'}",
     "output_type": "error",
     "traceback": [
      "\u001b[0;31m---------------------------------------------------------------------------\u001b[0m",
      "\u001b[0;31mBadRequestError\u001b[0m                           Traceback (most recent call last)",
      "Cell \u001b[0;32mIn[10], line 1\u001b[0m\n\u001b[0;32m----> 1\u001b[0m res \u001b[38;5;241m=\u001b[39m \u001b[43mget_so_completion\u001b[49m\u001b[43m(\u001b[49m\u001b[43mlog\u001b[49m\u001b[38;5;241;43m=\u001b[39;49m\u001b[43mlog\u001b[49m\u001b[43m,\u001b[49m\u001b[43m \u001b[49m\u001b[43mmodel_name\u001b[49m\u001b[38;5;241;43m=\u001b[39;49m\u001b[38;5;124;43m'\u001b[39;49m\u001b[38;5;124;43mopenai/gpt-4o\u001b[39;49m\u001b[38;5;124;43m'\u001b[39;49m\u001b[43m,\u001b[49m\u001b[43m \u001b[49m\u001b[43mclient\u001b[49m\u001b[38;5;241;43m=\u001b[39;49m\u001b[43mclient\u001b[49m\u001b[43m,\u001b[49m\u001b[43m \u001b[49m\u001b[43mpydantic_model\u001b[49m\u001b[38;5;241;43m=\u001b[39;49m\u001b[43mSides\u001b[49m\u001b[43m,\u001b[49m\u001b[43m \u001b[49m\u001b[43mprovider_name\u001b[49m\u001b[38;5;241;43m=\u001b[39;49m\u001b[38;5;124;43m'\u001b[39;49m\u001b[38;5;124;43mopenrouter\u001b[39;49m\u001b[38;5;124;43m'\u001b[39;49m\u001b[43m)\u001b[49m\n",
      "File \u001b[0;32m/mnt/d/vscode_projects/praxis-core/src/llm_agg/response.py:24\u001b[0m, in \u001b[0;36mget_so_completion\u001b[0;34m(log, model_name, client, pydantic_model, provider_name, json_schema_name)\u001b[0m\n\u001b[1;32m     22\u001b[0m \u001b[38;5;28;01melif\u001b[39;00m provider_name \u001b[38;5;241m==\u001b[39m \u001b[38;5;124m'\u001b[39m\u001b[38;5;124mopenrouter\u001b[39m\u001b[38;5;124m'\u001b[39m:\n\u001b[1;32m     23\u001b[0m     model_schema \u001b[38;5;241m=\u001b[39m pydantic_model\u001b[38;5;241m.\u001b[39mmodel_json_schema()\n\u001b[0;32m---> 24\u001b[0m     completion \u001b[38;5;241m=\u001b[39m \u001b[43mclient\u001b[49m\u001b[38;5;241;43m.\u001b[39;49m\u001b[43mchat\u001b[49m\u001b[38;5;241;43m.\u001b[39;49m\u001b[43mcompletions\u001b[49m\u001b[38;5;241;43m.\u001b[39;49m\u001b[43mcreate\u001b[49m\u001b[43m(\u001b[49m\n\u001b[1;32m     25\u001b[0m \u001b[43m        \u001b[49m\u001b[43mextra_body\u001b[49m\u001b[38;5;241;43m=\u001b[39;49m\u001b[43m{\u001b[49m\n\u001b[1;32m     26\u001b[0m \u001b[43m            \u001b[49m\u001b[38;5;124;43m'\u001b[39;49m\u001b[38;5;124;43mprovider\u001b[39;49m\u001b[38;5;124;43m'\u001b[39;49m\u001b[43m:\u001b[49m\u001b[43m \u001b[49m\u001b[43m{\u001b[49m\u001b[38;5;124;43m'\u001b[39;49m\u001b[38;5;124;43morder\u001b[39;49m\u001b[38;5;124;43m'\u001b[39;49m\u001b[43m:\u001b[49m\u001b[43m \u001b[49m\u001b[43m[\u001b[49m\u001b[38;5;124;43m'\u001b[39;49m\u001b[38;5;124;43mopenai\u001b[39;49m\u001b[38;5;124;43m'\u001b[39;49m\u001b[43m]\u001b[49m\u001b[43m}\u001b[49m\n\u001b[1;32m     27\u001b[0m \u001b[43m        \u001b[49m\u001b[43m}\u001b[49m\u001b[43m,\u001b[49m\n\u001b[1;32m     28\u001b[0m \u001b[43m        \u001b[49m\u001b[43mmodel\u001b[49m\u001b[38;5;241;43m=\u001b[39;49m\u001b[43mmodel_name\u001b[49m\u001b[43m,\u001b[49m\n\u001b[1;32m     29\u001b[0m \u001b[43m        \u001b[49m\u001b[43mmessages\u001b[49m\u001b[38;5;241;43m=\u001b[39;49m\u001b[43mlog\u001b[49m\u001b[43m,\u001b[49m\n\u001b[1;32m     30\u001b[0m \u001b[43m        \u001b[49m\u001b[43mresponse_format\u001b[49m\u001b[38;5;241;43m=\u001b[39;49m\u001b[43mmodel_schema\u001b[49m\n\u001b[1;32m     31\u001b[0m \u001b[43m    \u001b[49m\u001b[43m)\u001b[49m\n\u001b[1;32m     32\u001b[0m     job \u001b[38;5;241m=\u001b[39m completion\u001b[38;5;241m.\u001b[39mchoices[\u001b[38;5;241m0\u001b[39m]\u001b[38;5;241m.\u001b[39mmessage\u001b[38;5;241m.\u001b[39mcontent\n\u001b[1;32m     33\u001b[0m \u001b[38;5;28;01melif\u001b[39;00m provider_name \u001b[38;5;241m==\u001b[39m \u001b[38;5;124m'\u001b[39m\u001b[38;5;124mlocal\u001b[39m\u001b[38;5;124m'\u001b[39m:\n",
      "File \u001b[0;32m/mnt/d/vscode_projects/praxis-core/.venv/lib/python3.10/site-packages/openai/_utils/_utils.py:287\u001b[0m, in \u001b[0;36mrequired_args.<locals>.inner.<locals>.wrapper\u001b[0;34m(*args, **kwargs)\u001b[0m\n\u001b[1;32m    285\u001b[0m             msg \u001b[38;5;241m=\u001b[39m \u001b[38;5;124mf\u001b[39m\u001b[38;5;124m\"\u001b[39m\u001b[38;5;124mMissing required argument: \u001b[39m\u001b[38;5;132;01m{\u001b[39;00mquote(missing[\u001b[38;5;241m0\u001b[39m])\u001b[38;5;132;01m}\u001b[39;00m\u001b[38;5;124m\"\u001b[39m\n\u001b[1;32m    286\u001b[0m     \u001b[38;5;28;01mraise\u001b[39;00m \u001b[38;5;167;01mTypeError\u001b[39;00m(msg)\n\u001b[0;32m--> 287\u001b[0m \u001b[38;5;28;01mreturn\u001b[39;00m \u001b[43mfunc\u001b[49m\u001b[43m(\u001b[49m\u001b[38;5;241;43m*\u001b[39;49m\u001b[43margs\u001b[49m\u001b[43m,\u001b[49m\u001b[43m \u001b[49m\u001b[38;5;241;43m*\u001b[39;49m\u001b[38;5;241;43m*\u001b[39;49m\u001b[43mkwargs\u001b[49m\u001b[43m)\u001b[49m\n",
      "File \u001b[0;32m/mnt/d/vscode_projects/praxis-core/.venv/lib/python3.10/site-packages/openai/resources/chat/completions/completions.py:1147\u001b[0m, in \u001b[0;36mCompletions.create\u001b[0;34m(self, messages, model, audio, frequency_penalty, function_call, functions, logit_bias, logprobs, max_completion_tokens, max_tokens, metadata, modalities, n, parallel_tool_calls, prediction, presence_penalty, prompt_cache_key, reasoning_effort, response_format, safety_identifier, seed, service_tier, stop, store, stream, stream_options, temperature, tool_choice, tools, top_logprobs, top_p, user, verbosity, web_search_options, extra_headers, extra_query, extra_body, timeout)\u001b[0m\n\u001b[1;32m   1101\u001b[0m \u001b[38;5;129m@required_args\u001b[39m([\u001b[38;5;124m\"\u001b[39m\u001b[38;5;124mmessages\u001b[39m\u001b[38;5;124m\"\u001b[39m, \u001b[38;5;124m\"\u001b[39m\u001b[38;5;124mmodel\u001b[39m\u001b[38;5;124m\"\u001b[39m], [\u001b[38;5;124m\"\u001b[39m\u001b[38;5;124mmessages\u001b[39m\u001b[38;5;124m\"\u001b[39m, \u001b[38;5;124m\"\u001b[39m\u001b[38;5;124mmodel\u001b[39m\u001b[38;5;124m\"\u001b[39m, \u001b[38;5;124m\"\u001b[39m\u001b[38;5;124mstream\u001b[39m\u001b[38;5;124m\"\u001b[39m])\n\u001b[1;32m   1102\u001b[0m \u001b[38;5;28;01mdef\u001b[39;00m\u001b[38;5;250m \u001b[39m\u001b[38;5;21mcreate\u001b[39m(\n\u001b[1;32m   1103\u001b[0m     \u001b[38;5;28mself\u001b[39m,\n\u001b[0;32m   (...)\u001b[0m\n\u001b[1;32m   1144\u001b[0m     timeout: \u001b[38;5;28mfloat\u001b[39m \u001b[38;5;241m|\u001b[39m httpx\u001b[38;5;241m.\u001b[39mTimeout \u001b[38;5;241m|\u001b[39m \u001b[38;5;28;01mNone\u001b[39;00m \u001b[38;5;241m|\u001b[39m NotGiven \u001b[38;5;241m=\u001b[39m NOT_GIVEN,\n\u001b[1;32m   1145\u001b[0m ) \u001b[38;5;241m-\u001b[39m\u001b[38;5;241m>\u001b[39m ChatCompletion \u001b[38;5;241m|\u001b[39m Stream[ChatCompletionChunk]:\n\u001b[1;32m   1146\u001b[0m     validate_response_format(response_format)\n\u001b[0;32m-> 1147\u001b[0m     \u001b[38;5;28;01mreturn\u001b[39;00m \u001b[38;5;28;43mself\u001b[39;49m\u001b[38;5;241;43m.\u001b[39;49m\u001b[43m_post\u001b[49m\u001b[43m(\u001b[49m\n\u001b[1;32m   1148\u001b[0m \u001b[43m        \u001b[49m\u001b[38;5;124;43m\"\u001b[39;49m\u001b[38;5;124;43m/chat/completions\u001b[39;49m\u001b[38;5;124;43m\"\u001b[39;49m\u001b[43m,\u001b[49m\n\u001b[1;32m   1149\u001b[0m \u001b[43m        \u001b[49m\u001b[43mbody\u001b[49m\u001b[38;5;241;43m=\u001b[39;49m\u001b[43mmaybe_transform\u001b[49m\u001b[43m(\u001b[49m\n\u001b[1;32m   1150\u001b[0m \u001b[43m            \u001b[49m\u001b[43m{\u001b[49m\n\u001b[1;32m   1151\u001b[0m \u001b[43m                \u001b[49m\u001b[38;5;124;43m\"\u001b[39;49m\u001b[38;5;124;43mmessages\u001b[39;49m\u001b[38;5;124;43m\"\u001b[39;49m\u001b[43m:\u001b[49m\u001b[43m \u001b[49m\u001b[43mmessages\u001b[49m\u001b[43m,\u001b[49m\n\u001b[1;32m   1152\u001b[0m \u001b[43m                \u001b[49m\u001b[38;5;124;43m\"\u001b[39;49m\u001b[38;5;124;43mmodel\u001b[39;49m\u001b[38;5;124;43m\"\u001b[39;49m\u001b[43m:\u001b[49m\u001b[43m \u001b[49m\u001b[43mmodel\u001b[49m\u001b[43m,\u001b[49m\n\u001b[1;32m   1153\u001b[0m \u001b[43m                \u001b[49m\u001b[38;5;124;43m\"\u001b[39;49m\u001b[38;5;124;43maudio\u001b[39;49m\u001b[38;5;124;43m\"\u001b[39;49m\u001b[43m:\u001b[49m\u001b[43m \u001b[49m\u001b[43maudio\u001b[49m\u001b[43m,\u001b[49m\n\u001b[1;32m   1154\u001b[0m \u001b[43m                \u001b[49m\u001b[38;5;124;43m\"\u001b[39;49m\u001b[38;5;124;43mfrequency_penalty\u001b[39;49m\u001b[38;5;124;43m\"\u001b[39;49m\u001b[43m:\u001b[49m\u001b[43m \u001b[49m\u001b[43mfrequency_penalty\u001b[49m\u001b[43m,\u001b[49m\n\u001b[1;32m   1155\u001b[0m \u001b[43m                \u001b[49m\u001b[38;5;124;43m\"\u001b[39;49m\u001b[38;5;124;43mfunction_call\u001b[39;49m\u001b[38;5;124;43m\"\u001b[39;49m\u001b[43m:\u001b[49m\u001b[43m \u001b[49m\u001b[43mfunction_call\u001b[49m\u001b[43m,\u001b[49m\n\u001b[1;32m   1156\u001b[0m \u001b[43m                \u001b[49m\u001b[38;5;124;43m\"\u001b[39;49m\u001b[38;5;124;43mfunctions\u001b[39;49m\u001b[38;5;124;43m\"\u001b[39;49m\u001b[43m:\u001b[49m\u001b[43m \u001b[49m\u001b[43mfunctions\u001b[49m\u001b[43m,\u001b[49m\n\u001b[1;32m   1157\u001b[0m \u001b[43m                \u001b[49m\u001b[38;5;124;43m\"\u001b[39;49m\u001b[38;5;124;43mlogit_bias\u001b[39;49m\u001b[38;5;124;43m\"\u001b[39;49m\u001b[43m:\u001b[49m\u001b[43m \u001b[49m\u001b[43mlogit_bias\u001b[49m\u001b[43m,\u001b[49m\n\u001b[1;32m   1158\u001b[0m \u001b[43m                \u001b[49m\u001b[38;5;124;43m\"\u001b[39;49m\u001b[38;5;124;43mlogprobs\u001b[39;49m\u001b[38;5;124;43m\"\u001b[39;49m\u001b[43m:\u001b[49m\u001b[43m \u001b[49m\u001b[43mlogprobs\u001b[49m\u001b[43m,\u001b[49m\n\u001b[1;32m   1159\u001b[0m \u001b[43m                \u001b[49m\u001b[38;5;124;43m\"\u001b[39;49m\u001b[38;5;124;43mmax_completion_tokens\u001b[39;49m\u001b[38;5;124;43m\"\u001b[39;49m\u001b[43m:\u001b[49m\u001b[43m \u001b[49m\u001b[43mmax_completion_tokens\u001b[49m\u001b[43m,\u001b[49m\n\u001b[1;32m   1160\u001b[0m \u001b[43m                \u001b[49m\u001b[38;5;124;43m\"\u001b[39;49m\u001b[38;5;124;43mmax_tokens\u001b[39;49m\u001b[38;5;124;43m\"\u001b[39;49m\u001b[43m:\u001b[49m\u001b[43m \u001b[49m\u001b[43mmax_tokens\u001b[49m\u001b[43m,\u001b[49m\n\u001b[1;32m   1161\u001b[0m \u001b[43m                \u001b[49m\u001b[38;5;124;43m\"\u001b[39;49m\u001b[38;5;124;43mmetadata\u001b[39;49m\u001b[38;5;124;43m\"\u001b[39;49m\u001b[43m:\u001b[49m\u001b[43m \u001b[49m\u001b[43mmetadata\u001b[49m\u001b[43m,\u001b[49m\n\u001b[1;32m   1162\u001b[0m \u001b[43m                \u001b[49m\u001b[38;5;124;43m\"\u001b[39;49m\u001b[38;5;124;43mmodalities\u001b[39;49m\u001b[38;5;124;43m\"\u001b[39;49m\u001b[43m:\u001b[49m\u001b[43m \u001b[49m\u001b[43mmodalities\u001b[49m\u001b[43m,\u001b[49m\n\u001b[1;32m   1163\u001b[0m \u001b[43m                \u001b[49m\u001b[38;5;124;43m\"\u001b[39;49m\u001b[38;5;124;43mn\u001b[39;49m\u001b[38;5;124;43m\"\u001b[39;49m\u001b[43m:\u001b[49m\u001b[43m \u001b[49m\u001b[43mn\u001b[49m\u001b[43m,\u001b[49m\n\u001b[1;32m   1164\u001b[0m \u001b[43m                \u001b[49m\u001b[38;5;124;43m\"\u001b[39;49m\u001b[38;5;124;43mparallel_tool_calls\u001b[39;49m\u001b[38;5;124;43m\"\u001b[39;49m\u001b[43m:\u001b[49m\u001b[43m \u001b[49m\u001b[43mparallel_tool_calls\u001b[49m\u001b[43m,\u001b[49m\n\u001b[1;32m   1165\u001b[0m \u001b[43m                \u001b[49m\u001b[38;5;124;43m\"\u001b[39;49m\u001b[38;5;124;43mprediction\u001b[39;49m\u001b[38;5;124;43m\"\u001b[39;49m\u001b[43m:\u001b[49m\u001b[43m \u001b[49m\u001b[43mprediction\u001b[49m\u001b[43m,\u001b[49m\n\u001b[1;32m   1166\u001b[0m \u001b[43m                \u001b[49m\u001b[38;5;124;43m\"\u001b[39;49m\u001b[38;5;124;43mpresence_penalty\u001b[39;49m\u001b[38;5;124;43m\"\u001b[39;49m\u001b[43m:\u001b[49m\u001b[43m \u001b[49m\u001b[43mpresence_penalty\u001b[49m\u001b[43m,\u001b[49m\n\u001b[1;32m   1167\u001b[0m \u001b[43m                \u001b[49m\u001b[38;5;124;43m\"\u001b[39;49m\u001b[38;5;124;43mprompt_cache_key\u001b[39;49m\u001b[38;5;124;43m\"\u001b[39;49m\u001b[43m:\u001b[49m\u001b[43m \u001b[49m\u001b[43mprompt_cache_key\u001b[49m\u001b[43m,\u001b[49m\n\u001b[1;32m   1168\u001b[0m \u001b[43m                \u001b[49m\u001b[38;5;124;43m\"\u001b[39;49m\u001b[38;5;124;43mreasoning_effort\u001b[39;49m\u001b[38;5;124;43m\"\u001b[39;49m\u001b[43m:\u001b[49m\u001b[43m \u001b[49m\u001b[43mreasoning_effort\u001b[49m\u001b[43m,\u001b[49m\n\u001b[1;32m   1169\u001b[0m \u001b[43m                \u001b[49m\u001b[38;5;124;43m\"\u001b[39;49m\u001b[38;5;124;43mresponse_format\u001b[39;49m\u001b[38;5;124;43m\"\u001b[39;49m\u001b[43m:\u001b[49m\u001b[43m \u001b[49m\u001b[43mresponse_format\u001b[49m\u001b[43m,\u001b[49m\n\u001b[1;32m   1170\u001b[0m \u001b[43m                \u001b[49m\u001b[38;5;124;43m\"\u001b[39;49m\u001b[38;5;124;43msafety_identifier\u001b[39;49m\u001b[38;5;124;43m\"\u001b[39;49m\u001b[43m:\u001b[49m\u001b[43m \u001b[49m\u001b[43msafety_identifier\u001b[49m\u001b[43m,\u001b[49m\n\u001b[1;32m   1171\u001b[0m \u001b[43m                \u001b[49m\u001b[38;5;124;43m\"\u001b[39;49m\u001b[38;5;124;43mseed\u001b[39;49m\u001b[38;5;124;43m\"\u001b[39;49m\u001b[43m:\u001b[49m\u001b[43m \u001b[49m\u001b[43mseed\u001b[49m\u001b[43m,\u001b[49m\n\u001b[1;32m   1172\u001b[0m \u001b[43m                \u001b[49m\u001b[38;5;124;43m\"\u001b[39;49m\u001b[38;5;124;43mservice_tier\u001b[39;49m\u001b[38;5;124;43m\"\u001b[39;49m\u001b[43m:\u001b[49m\u001b[43m \u001b[49m\u001b[43mservice_tier\u001b[49m\u001b[43m,\u001b[49m\n\u001b[1;32m   1173\u001b[0m \u001b[43m                \u001b[49m\u001b[38;5;124;43m\"\u001b[39;49m\u001b[38;5;124;43mstop\u001b[39;49m\u001b[38;5;124;43m\"\u001b[39;49m\u001b[43m:\u001b[49m\u001b[43m \u001b[49m\u001b[43mstop\u001b[49m\u001b[43m,\u001b[49m\n\u001b[1;32m   1174\u001b[0m \u001b[43m                \u001b[49m\u001b[38;5;124;43m\"\u001b[39;49m\u001b[38;5;124;43mstore\u001b[39;49m\u001b[38;5;124;43m\"\u001b[39;49m\u001b[43m:\u001b[49m\u001b[43m \u001b[49m\u001b[43mstore\u001b[49m\u001b[43m,\u001b[49m\n\u001b[1;32m   1175\u001b[0m \u001b[43m                \u001b[49m\u001b[38;5;124;43m\"\u001b[39;49m\u001b[38;5;124;43mstream\u001b[39;49m\u001b[38;5;124;43m\"\u001b[39;49m\u001b[43m:\u001b[49m\u001b[43m \u001b[49m\u001b[43mstream\u001b[49m\u001b[43m,\u001b[49m\n\u001b[1;32m   1176\u001b[0m \u001b[43m                \u001b[49m\u001b[38;5;124;43m\"\u001b[39;49m\u001b[38;5;124;43mstream_options\u001b[39;49m\u001b[38;5;124;43m\"\u001b[39;49m\u001b[43m:\u001b[49m\u001b[43m \u001b[49m\u001b[43mstream_options\u001b[49m\u001b[43m,\u001b[49m\n\u001b[1;32m   1177\u001b[0m \u001b[43m                \u001b[49m\u001b[38;5;124;43m\"\u001b[39;49m\u001b[38;5;124;43mtemperature\u001b[39;49m\u001b[38;5;124;43m\"\u001b[39;49m\u001b[43m:\u001b[49m\u001b[43m \u001b[49m\u001b[43mtemperature\u001b[49m\u001b[43m,\u001b[49m\n\u001b[1;32m   1178\u001b[0m \u001b[43m                \u001b[49m\u001b[38;5;124;43m\"\u001b[39;49m\u001b[38;5;124;43mtool_choice\u001b[39;49m\u001b[38;5;124;43m\"\u001b[39;49m\u001b[43m:\u001b[49m\u001b[43m \u001b[49m\u001b[43mtool_choice\u001b[49m\u001b[43m,\u001b[49m\n\u001b[1;32m   1179\u001b[0m \u001b[43m                \u001b[49m\u001b[38;5;124;43m\"\u001b[39;49m\u001b[38;5;124;43mtools\u001b[39;49m\u001b[38;5;124;43m\"\u001b[39;49m\u001b[43m:\u001b[49m\u001b[43m \u001b[49m\u001b[43mtools\u001b[49m\u001b[43m,\u001b[49m\n\u001b[1;32m   1180\u001b[0m \u001b[43m                \u001b[49m\u001b[38;5;124;43m\"\u001b[39;49m\u001b[38;5;124;43mtop_logprobs\u001b[39;49m\u001b[38;5;124;43m\"\u001b[39;49m\u001b[43m:\u001b[49m\u001b[43m \u001b[49m\u001b[43mtop_logprobs\u001b[49m\u001b[43m,\u001b[49m\n\u001b[1;32m   1181\u001b[0m \u001b[43m                \u001b[49m\u001b[38;5;124;43m\"\u001b[39;49m\u001b[38;5;124;43mtop_p\u001b[39;49m\u001b[38;5;124;43m\"\u001b[39;49m\u001b[43m:\u001b[49m\u001b[43m \u001b[49m\u001b[43mtop_p\u001b[49m\u001b[43m,\u001b[49m\n\u001b[1;32m   1182\u001b[0m \u001b[43m                \u001b[49m\u001b[38;5;124;43m\"\u001b[39;49m\u001b[38;5;124;43muser\u001b[39;49m\u001b[38;5;124;43m\"\u001b[39;49m\u001b[43m:\u001b[49m\u001b[43m \u001b[49m\u001b[43muser\u001b[49m\u001b[43m,\u001b[49m\n\u001b[1;32m   1183\u001b[0m \u001b[43m                \u001b[49m\u001b[38;5;124;43m\"\u001b[39;49m\u001b[38;5;124;43mverbosity\u001b[39;49m\u001b[38;5;124;43m\"\u001b[39;49m\u001b[43m:\u001b[49m\u001b[43m \u001b[49m\u001b[43mverbosity\u001b[49m\u001b[43m,\u001b[49m\n\u001b[1;32m   1184\u001b[0m \u001b[43m                \u001b[49m\u001b[38;5;124;43m\"\u001b[39;49m\u001b[38;5;124;43mweb_search_options\u001b[39;49m\u001b[38;5;124;43m\"\u001b[39;49m\u001b[43m:\u001b[49m\u001b[43m \u001b[49m\u001b[43mweb_search_options\u001b[49m\u001b[43m,\u001b[49m\n\u001b[1;32m   1185\u001b[0m \u001b[43m            \u001b[49m\u001b[43m}\u001b[49m\u001b[43m,\u001b[49m\n\u001b[1;32m   1186\u001b[0m \u001b[43m            \u001b[49m\u001b[43mcompletion_create_params\u001b[49m\u001b[38;5;241;43m.\u001b[39;49m\u001b[43mCompletionCreateParamsStreaming\u001b[49m\n\u001b[1;32m   1187\u001b[0m \u001b[43m            \u001b[49m\u001b[38;5;28;43;01mif\u001b[39;49;00m\u001b[43m \u001b[49m\u001b[43mstream\u001b[49m\n\u001b[1;32m   1188\u001b[0m \u001b[43m            \u001b[49m\u001b[38;5;28;43;01melse\u001b[39;49;00m\u001b[43m \u001b[49m\u001b[43mcompletion_create_params\u001b[49m\u001b[38;5;241;43m.\u001b[39;49m\u001b[43mCompletionCreateParamsNonStreaming\u001b[49m\u001b[43m,\u001b[49m\n\u001b[1;32m   1189\u001b[0m \u001b[43m        \u001b[49m\u001b[43m)\u001b[49m\u001b[43m,\u001b[49m\n\u001b[1;32m   1190\u001b[0m \u001b[43m        \u001b[49m\u001b[43moptions\u001b[49m\u001b[38;5;241;43m=\u001b[39;49m\u001b[43mmake_request_options\u001b[49m\u001b[43m(\u001b[49m\n\u001b[1;32m   1191\u001b[0m \u001b[43m            \u001b[49m\u001b[43mextra_headers\u001b[49m\u001b[38;5;241;43m=\u001b[39;49m\u001b[43mextra_headers\u001b[49m\u001b[43m,\u001b[49m\u001b[43m \u001b[49m\u001b[43mextra_query\u001b[49m\u001b[38;5;241;43m=\u001b[39;49m\u001b[43mextra_query\u001b[49m\u001b[43m,\u001b[49m\u001b[43m \u001b[49m\u001b[43mextra_body\u001b[49m\u001b[38;5;241;43m=\u001b[39;49m\u001b[43mextra_body\u001b[49m\u001b[43m,\u001b[49m\u001b[43m \u001b[49m\u001b[43mtimeout\u001b[49m\u001b[38;5;241;43m=\u001b[39;49m\u001b[43mtimeout\u001b[49m\n\u001b[1;32m   1192\u001b[0m \u001b[43m        \u001b[49m\u001b[43m)\u001b[49m\u001b[43m,\u001b[49m\n\u001b[1;32m   1193\u001b[0m \u001b[43m        \u001b[49m\u001b[43mcast_to\u001b[49m\u001b[38;5;241;43m=\u001b[39;49m\u001b[43mChatCompletion\u001b[49m\u001b[43m,\u001b[49m\n\u001b[1;32m   1194\u001b[0m \u001b[43m        \u001b[49m\u001b[43mstream\u001b[49m\u001b[38;5;241;43m=\u001b[39;49m\u001b[43mstream\u001b[49m\u001b[43m \u001b[49m\u001b[38;5;129;43;01mor\u001b[39;49;00m\u001b[43m \u001b[49m\u001b[38;5;28;43;01mFalse\u001b[39;49;00m\u001b[43m,\u001b[49m\n\u001b[1;32m   1195\u001b[0m \u001b[43m        \u001b[49m\u001b[43mstream_cls\u001b[49m\u001b[38;5;241;43m=\u001b[39;49m\u001b[43mStream\u001b[49m\u001b[43m[\u001b[49m\u001b[43mChatCompletionChunk\u001b[49m\u001b[43m]\u001b[49m\u001b[43m,\u001b[49m\n\u001b[1;32m   1196\u001b[0m \u001b[43m    \u001b[49m\u001b[43m)\u001b[49m\n",
      "File \u001b[0;32m/mnt/d/vscode_projects/praxis-core/.venv/lib/python3.10/site-packages/openai/_base_client.py:1259\u001b[0m, in \u001b[0;36mSyncAPIClient.post\u001b[0;34m(self, path, cast_to, body, options, files, stream, stream_cls)\u001b[0m\n\u001b[1;32m   1245\u001b[0m \u001b[38;5;28;01mdef\u001b[39;00m\u001b[38;5;250m \u001b[39m\u001b[38;5;21mpost\u001b[39m(\n\u001b[1;32m   1246\u001b[0m     \u001b[38;5;28mself\u001b[39m,\n\u001b[1;32m   1247\u001b[0m     path: \u001b[38;5;28mstr\u001b[39m,\n\u001b[0;32m   (...)\u001b[0m\n\u001b[1;32m   1254\u001b[0m     stream_cls: \u001b[38;5;28mtype\u001b[39m[_StreamT] \u001b[38;5;241m|\u001b[39m \u001b[38;5;28;01mNone\u001b[39;00m \u001b[38;5;241m=\u001b[39m \u001b[38;5;28;01mNone\u001b[39;00m,\n\u001b[1;32m   1255\u001b[0m ) \u001b[38;5;241m-\u001b[39m\u001b[38;5;241m>\u001b[39m ResponseT \u001b[38;5;241m|\u001b[39m _StreamT:\n\u001b[1;32m   1256\u001b[0m     opts \u001b[38;5;241m=\u001b[39m FinalRequestOptions\u001b[38;5;241m.\u001b[39mconstruct(\n\u001b[1;32m   1257\u001b[0m         method\u001b[38;5;241m=\u001b[39m\u001b[38;5;124m\"\u001b[39m\u001b[38;5;124mpost\u001b[39m\u001b[38;5;124m\"\u001b[39m, url\u001b[38;5;241m=\u001b[39mpath, json_data\u001b[38;5;241m=\u001b[39mbody, files\u001b[38;5;241m=\u001b[39mto_httpx_files(files), \u001b[38;5;241m*\u001b[39m\u001b[38;5;241m*\u001b[39moptions\n\u001b[1;32m   1258\u001b[0m     )\n\u001b[0;32m-> 1259\u001b[0m     \u001b[38;5;28;01mreturn\u001b[39;00m cast(ResponseT, \u001b[38;5;28;43mself\u001b[39;49m\u001b[38;5;241;43m.\u001b[39;49m\u001b[43mrequest\u001b[49m\u001b[43m(\u001b[49m\u001b[43mcast_to\u001b[49m\u001b[43m,\u001b[49m\u001b[43m \u001b[49m\u001b[43mopts\u001b[49m\u001b[43m,\u001b[49m\u001b[43m \u001b[49m\u001b[43mstream\u001b[49m\u001b[38;5;241;43m=\u001b[39;49m\u001b[43mstream\u001b[49m\u001b[43m,\u001b[49m\u001b[43m \u001b[49m\u001b[43mstream_cls\u001b[49m\u001b[38;5;241;43m=\u001b[39;49m\u001b[43mstream_cls\u001b[49m\u001b[43m)\u001b[49m)\n",
      "File \u001b[0;32m/mnt/d/vscode_projects/praxis-core/.venv/lib/python3.10/site-packages/openai/_base_client.py:1047\u001b[0m, in \u001b[0;36mSyncAPIClient.request\u001b[0;34m(self, cast_to, options, stream, stream_cls)\u001b[0m\n\u001b[1;32m   1044\u001b[0m             err\u001b[38;5;241m.\u001b[39mresponse\u001b[38;5;241m.\u001b[39mread()\n\u001b[1;32m   1046\u001b[0m         log\u001b[38;5;241m.\u001b[39mdebug(\u001b[38;5;124m\"\u001b[39m\u001b[38;5;124mRe-raising status error\u001b[39m\u001b[38;5;124m\"\u001b[39m)\n\u001b[0;32m-> 1047\u001b[0m         \u001b[38;5;28;01mraise\u001b[39;00m \u001b[38;5;28mself\u001b[39m\u001b[38;5;241m.\u001b[39m_make_status_error_from_response(err\u001b[38;5;241m.\u001b[39mresponse) \u001b[38;5;28;01mfrom\u001b[39;00m\u001b[38;5;250m \u001b[39m\u001b[38;5;28;01mNone\u001b[39;00m\n\u001b[1;32m   1049\u001b[0m     \u001b[38;5;28;01mbreak\u001b[39;00m\n\u001b[1;32m   1051\u001b[0m \u001b[38;5;28;01massert\u001b[39;00m response \u001b[38;5;129;01mis\u001b[39;00m \u001b[38;5;129;01mnot\u001b[39;00m \u001b[38;5;28;01mNone\u001b[39;00m, \u001b[38;5;124m\"\u001b[39m\u001b[38;5;124mcould not resolve response (should never happen)\u001b[39m\u001b[38;5;124m\"\u001b[39m\n",
      "\u001b[0;31mBadRequestError\u001b[0m: Error code: 400 - {'error': {'message': 'Provider returned error', 'code': 400, 'metadata': {'raw': '{\\n  \"error\": {\\n    \"message\": \"Invalid value: \\'object\\'. Supported values are: \\'guidance\\', \\'json_object\\', \\'json_schema\\', and \\'text\\'.\",\\n    \"type\": \"invalid_request_error\",\\n    \"param\": \"response_format.type\",\\n    \"code\": \"invalid_value\"\\n  }\\n}', 'provider_name': 'Azure'}}, 'user_id': 'user_2mejRokFXRzE44AusrJatRdXWlX'}"
     ]
    }
   ],
   "source": [
    "res = get_so_completion(log=log, model_name='openai/gpt-4o', client=client, pydantic_model=Sides, provider_name='openrouter')"
   ]
  },
  {
   "cell_type": "code",
   "execution_count": 12,
   "id": "ec51b8a8",
   "metadata": {},
   "outputs": [
    {
     "data": {
      "text/plain": [
       "{'type': 'json_schema',\n",
       " 'json_schema': {'type': 'object',\n",
       "  '$defs': {'Side': {'properties': {'side': {'description': \"Defining the person's side: whether this quality is their strong or weak side\",\n",
       "      'enum': ['strong', 'weak'],\n",
       "      'title': 'Side',\n",
       "      'type': 'string'},\n",
       "     'side_description': {'description': 'Description of which specific quality is being considered',\n",
       "      'title': 'Side Description',\n",
       "      'type': 'string'},\n",
       "     'side_pick_explanation': {'description': \"Explanation of why, based on the user's answers, this quality is considered strong or weak\",\n",
       "      'title': 'Side Pick Explanation',\n",
       "      'type': 'string'}},\n",
       "    'required': ['side', 'side_description', 'side_pick_explanation'],\n",
       "    'title': 'Side',\n",
       "    'type': 'object'}},\n",
       "  'properties': {'sides': {'items': {'$ref': '#/$defs/Side'},\n",
       "    'title': 'Sides',\n",
       "    'type': 'array'},\n",
       "   'overall': {'description': 'execute first remaining step',\n",
       "    'title': 'Overall',\n",
       "    'type': 'string'}},\n",
       "  'required': ['sides', 'overall'],\n",
       "  'title': 'Sides'}}"
      ]
     },
     "execution_count": 12,
     "metadata": {},
     "output_type": "execute_result"
    }
   ],
   "source": [
    "{\n",
    "    \"type\": \"json_schema\",\n",
    "    \"json_schema\": {\n",
    "        \"type\": \"object\",\n",
    "        **Sides.model_json_schema()\n",
    "    }\n",
    "}"
   ]
  },
  {
   "cell_type": "code",
   "execution_count": 16,
   "id": "19987851",
   "metadata": {},
   "outputs": [],
   "source": [
    "completion = client.chat.completions.create(\n",
    "    model='openai/gpt-4o',\n",
    "    messages=log,\n",
    "    response_format={\n",
    "        \"type\": \"json_schema\",\n",
    "        \"json_schema\": {\n",
    "            \"name\": \"Sides\",\n",
    "            \"schema\": Sides.model_json_schema()\n",
    "        }\n",
    "    }\n",
    ")"
   ]
  },
  {
   "cell_type": "code",
   "execution_count": 17,
   "id": "ca17cff9",
   "metadata": {},
   "outputs": [
    {
     "data": {
      "text/plain": [
       "ChatCompletion(id='gen-1756916399-GkDNGu5fHAfbAOveEBL6', choices=[Choice(finish_reason='stop', index=0, logprobs=None, message=ChatCompletionMessage(content='{\"overall\":\"**Summary of Manager Feedback:**\\\\n\\\\n1. **Strengths:**\\\\n    - **Research and Problem-solving Abilities:** Demonstrates a high level of research and optimization in problem-solving approaches.\\\\n    - **Teamwork and Collaboration:** Works well within a team, contributing to cohesive group efforts and helping new employees integrate. \\\\n    - **Adaptability and Openness:** Quickly integrates into ongoing projects, showing flexibility and openness to innovations.\\\\n    - **Technical Proficiency:** Can handle DevOps tasks proficiently and understands the systems in use.\\\\n    - **Planning and Time Management:** Displays effective planning skills, adhering to set task schedules.\\\\n    - **Decision-making:** Fair and judicious, hearing out colleagues\\' ideas and selecting the most rational approach.\\\\n\\\\n2. **Areas for Improvement:**\\\\n    - **Concentration and Engagement:** Needs to maintain focus and show greater dedication during tasks.\\\\n    - **Communication Skills:** Struggles with clear expression in front of an audience, sometimes losing track of thought progression.\\\\n    - **Leadership and Soft Skills:** Could benefit from enhancing communication and leadership skills to sustain and defend his position effectively.\\\\n    - **Prioritization:** Requires better prioritization skills to focus on the most critical tasks. \\\\n    - **Technical Growth:** Suggested to gain expertise in modern MLOps tools for scalable infrastructure to elevate engineering skills.\\\\n\\\\n**Conclusion:** While displaying considerable technical and collaborative strengths, the focus should be on improving communication, leadership, and prioritization skills to advance career potential and overall contribution to the team.\",\"sides\":[{\"side\":\"strong\",\"side_description\":\"Research and problem-solving abilities\",\"side_pick_explanation\":\"Managers noted high levels of research and the ability to optimize approaches.\"},{\"side\":\"strong\",\"side_description\":\"Teamwork and collaboration\",\"side_pick_explanation\":\"Feedback highlights ability to work cohesively in a team and assist newcomers.\"},{\"side\":\"strong\",\"side_description\":\"Adaptability and openness to new ideas\",\"side_pick_explanation\":\"Evidenced by ease in adjusting to ongoing projects and openness to innovations.\"},{\"side\":\"strong\",\"side_description\":\"Technical proficiency in DevOps\",\"side_pick_explanation\":\"Recognized skill in handling DevOps and understanding operational systems.\"},{\"side\":\"strong\",\"side_description\":\"Planning and task management\",\"side_pick_explanation\":\"Commended for effective planning and task scheduling.\"},{\"side\":\"weak\",\"side_description\":\"Concentration and engagement\",\"side_pick_explanation\":\"Statements indicate occasional loss of concentration and superficial engagement.\"},{\"side\":\"weak\",\"side_description\":\"Communication skills\",\"side_pick_explanation\":\"Evidence of difficulty in articulation and maintaining focus in presentations.\"},{\"side\":\"weak\",\"side_description\":\"Leadership and soft skills\",\"side_pick_explanation\":\"Feedback suggests challenges in communication and taking leadership.\"},{\"side\":\"weak\",\"side_description\":\"Prioritization skills\",\"side_pick_explanation\":\"Noted need to focus on critical tasks through better prioritization techniques.\"},{\"side\":\"weak\",\"side_description\":\"MLOps technical growth\",\"side_pick_explanation\":\"Potential to expand expertise through modern tool mastery for scalability.\"}]}', refusal=None, role='assistant', annotations=None, audio=None, function_call=None, tool_calls=None, reasoning=None), native_finish_reason='stop')], created=1756916399, model='openai/gpt-4o', object='chat.completion', service_tier=None, system_fingerprint='fp_ee1d74bde0', usage=CompletionUsage(completion_tokens=634, prompt_tokens=1012, total_tokens=1646, completion_tokens_details=CompletionTokensDetails(accepted_prediction_tokens=None, audio_tokens=None, reasoning_tokens=0, rejected_prediction_tokens=None), prompt_tokens_details=PromptTokensDetails(audio_tokens=0, cached_tokens=0)), provider='Azure')"
      ]
     },
     "execution_count": 17,
     "metadata": {},
     "output_type": "execute_result"
    }
   ],
   "source": [
    "completion"
   ]
  },
  {
   "cell_type": "code",
   "execution_count": 20,
   "id": "493ba06e",
   "metadata": {},
   "outputs": [],
   "source": [
    "res = completion.choices[0].message.content"
   ]
  },
  {
   "cell_type": "code",
   "execution_count": 22,
   "id": "da952ec4",
   "metadata": {},
   "outputs": [],
   "source": [
    "import json"
   ]
  },
  {
   "cell_type": "code",
   "execution_count": null,
   "id": "a174496d",
   "metadata": {},
   "outputs": [],
   "source": []
  }
 ],
 "metadata": {
  "kernelspec": {
   "display_name": ".venv (3.10.12)",
   "language": "python",
   "name": "python3"
  },
  "language_info": {
   "codemirror_mode": {
    "name": "ipython",
    "version": 3
   },
   "file_extension": ".py",
   "mimetype": "text/x-python",
   "name": "python",
   "nbconvert_exporter": "python",
   "pygments_lexer": "ipython3",
   "version": "3.10.12"
  }
 },
 "nbformat": 4,
 "nbformat_minor": 5
}
