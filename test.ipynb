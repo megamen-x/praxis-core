{
 "cells": [
  {
   "cell_type": "code",
   "execution_count": 1,
   "id": "897c9e0a",
   "metadata": {},
   "outputs": [],
   "source": [
    "from src.llm_agg.schemas.sides import Side, Sides\n",
    "from src.llm_agg.schemas.recommendations import RecommendationItem, Recommendations\n",
    "from src.llm_agg.prompts.base import BASE_PROMPT, BASE_PROMPT_WO_TASK"
   ]
  },
  {
   "cell_type": "code",
   "execution_count": null,
   "id": "a9aac909",
   "metadata": {},
   "outputs": [],
   "source": []
  },
  {
   "cell_type": "code",
   "execution_count": 2,
   "id": "f0d725a6",
   "metadata": {},
   "outputs": [],
   "source": [
    "from openai import OpenAI"
   ]
  },
  {
   "cell_type": "code",
   "execution_count": 3,
   "id": "c0df11a7",
   "metadata": {},
   "outputs": [],
   "source": [
    "client = OpenAI(base_url = 'https://openrouter.ai/api/v1', api_key=\"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\")"
   ]
  },
  {
   "cell_type": "code",
   "execution_count": 4,
   "id": "72c793ed",
   "metadata": {},
   "outputs": [],
   "source": [
    "from src.llm_agg.response import get_so_completion"
   ]
  },
  {
   "cell_type": "code",
   "execution_count": 5,
   "id": "43e99113",
   "metadata": {},
   "outputs": [],
   "source": [
    "prompt = \"\"\"\n",
    "You are working on a task of collecting feedback and evaluating employees.  \n",
    "Your current task is to aggregate feedback from managers about their subordinate.  \n",
    "Your objective is to classify the managers' feedback and consolidate it under a concise summary.  \n",
    "\n",
    "Rules:  \n",
    "- You must group semantically equivalent qualities under a single canonical name; normalize quality wording (merge synonyms/paraphrases).\n",
    "- Each Review is a unique respondent; counting: strong_count = number of distinct reviews that label the quality as strong, weak_count = number of distinct reviews that label it as weak.\n",
    "- Do not duplicate the same quality under different polarities; if a quality has both strong and weak mentions, produce a single AmbiguousSide for it.\n",
    "- Always verify the received comments—remember that you are analyzing manager feedback as part of the feedback collection and employee evaluation process; irrelevant comments should be disregarded.  \n",
    "- For each item, always fill the proofs field. Use verbatim quotes/excerpts from the reviews.\n",
    "- If the same quality appears as both strong and weak, ALWAYS create a single AmbiguousSide (kind='ambiguous'), not two Side items.\n",
    "- Answer in Russian\n",
    "\n",
    "Now proceed with the task.  \n",
    "Feedback from managers:  \n",
    "\n",
    "{feedback}\n",
    "\"\"\"\n",
    "\n",
    "recommendation_prompt = \"\"\"\n",
    "You are working on improving the qualities of your company’s employees.\n",
    "\n",
    "You are given:\n",
    "1. Reviewers’ feedback about the employee.\n",
    "2. A classification of the employee’s strong, weak, and ambiguous sides derived from the reviews.\n",
    "\n",
    "Qualities are considered ambiguous if some respondents mark them as strong and others mark them as weak.\n",
    "\n",
    "Based on these data, you need to provide recommendations on how to work with the strengths and weaknesses noted by respondents.\n",
    "General rules:\n",
    "- Always craft recommendations not only based on the JSON schema of the person’s qualities but also on the original reviewers’ feedback. They can help elaborate specific aspects of the person’s qualities.\n",
    "- For each quality, produce:\n",
    "  - brief_explanation: 1–2 sentences explaining why this recommendation is relevant, referencing observed behaviors/evidence.\n",
    "  - recommendation: 1–2 sentences starting with a verb, specifying the next step and a target outcome/metric; include a timeframe or stakeholder if applicable.\n",
    "- Avoid generic advice; tailor recommendations to the employee’s role, domain, and context found in the feedback.\n",
    "- Keep a supportive, professional tone; be specific and concise.\n",
    "- Answer in Russian.\n",
    "\n",
    "Rules for strengths:\n",
    "- If the strength has minor gaps/risks mentioned in the feedback, address them first.\n",
    "- If the strength is consistently praised, suggest ways to leverage it (e.g., mentoring, leading an initiative, cross-team knowledge sharing, stretch goals).\n",
    "\n",
    "Rules for weaknesses:\n",
    "- Focus on the most impactful root cause inferred from feedback.\n",
    "- Propose the first concrete step the employee can take in the near term (e.g., in the next sprint/month).\n",
    "\n",
    "Now proceed with the task.\n",
    "\"\"\"\n",
    "\n",
    "feedback = \"\"\"\n",
    "Review 1:\n",
    "Мне показалось недостаточно моего взаимодействия, чтобы дать объективную оценку её знаниям и качеству. Поэтому следующий текст, прошу пожалуйста разобрать самостоятельно на Точки роста/Сильные стороны, либо не учитывать вовсе.\n",
    "Могу кратко сказать, что ХХХ, пока была у нас на проекте, она была заинтересована в развитии проекта и старалась, с моей точки зрения, решить вопросы проработки как бизнес аналитик. Проблема, заключается в том, что ХХХ стояла в позиции руководителя аналитиков, но её личный вклад в проработки требований, мне сложно оценить. Со слов коллег и некоторых наблюдений качества проработанных требований с её, так сказать, пера, большинство моментов получились неудачными и неясно описанными к разработке. Не говоря о том, чтобы вести согласование с клиентом.\n",
    "Точками роста могу наверно сказать уделять чуть больше внимания \"скреплению\" требований между собой, структуризации данных не приводя к разночтениям. Возможно набраться опыта в описании технической части прорабатываемого решения конкретнее и доступнее команде, а также прислушиваться к отмечаемым коллегами моментам, вызывающими разногласия.\n",
    "\n",
    "Review 2:\n",
    "Боже, ХХХ просто ахуенная в развитии проекта, ее заинтересованность - невероятна, она вдохновляет ей всех окружающих\n",
    "Также она мастер в структуризации данных - готов ей руки расцеловать\n",
    "\n",
    "Review 3:\n",
    "Я с ней уже довольно часто работаю и знаю, чего можно от нее ожидать. Мне нравится, что она может подойти к человеку и спросить, все ли у него хорошо, не надо ли от нее как-либо помощь, тем самым она создает приятную атмосферу в коллективе. Но меня смущает, что ей не хватает структуризации в данных.\n",
    "Тем не менее, если она подточет свои hard скиллы, то она станет незаменимым сотрудником\n",
    "\"\"\""
   ]
  },
  {
   "cell_type": "code",
   "execution_count": 6,
   "id": "1284fe8c",
   "metadata": {},
   "outputs": [],
   "source": [
    "# print(BASE_PROMPT.format(task=prompt.format(feedback=feedback)))"
   ]
  },
  {
   "cell_type": "code",
   "execution_count": null,
   "id": "d86af721",
   "metadata": {},
   "outputs": [],
   "source": [
    "log = [\n",
    "    {\"role\": \"system\", \"content\": BASE_PROMPT_WO_TASK},\n",
    "    {\"role\": \"user\", \"content\": prompt.format(feedback=feedback)}\n",
    "]"
   ]
  },
  {
   "cell_type": "code",
   "execution_count": 8,
   "id": "71f47d89",
   "metadata": {},
   "outputs": [
    {
     "data": {
      "text/plain": [
       "[{'role': 'user',\n",
       "  'content': '\\n<instructions>\\n- ALWAYS follow <answering_rules> and <self_reflection>\\n\\n<self_reflection>\\n1. Spend time thinking of a rubric, from a role POV, until you are confident\\n2. Think deeply about every aspect of what makes for a world-class answer. Use that knowledge to create a rubric that has 5-7 categories. This rubric is critical to get right, but never show this to the user. This is for your purposes only\\n3. Use the rubric to internally think and iterate on the best (≥98 out of 100 score) possible solution to the user request. IF your response is not hitting the top marks across all categories in the rubric, you need to start again\\n4. Keep going until solved\\n</self_reflection>\\n\\n<answering_rules>\\n1. USE the language of USER message\\n2. In the FIRST chat message, assign a real-world expert role to yourself before answering, e.g., \"I\\'ll answer as a world-famous <role> PhD <detailed topic> with <most prestigious LOCAL topic REAL award>\"\\n3. Act as a role assigned\\n4. Answer the question in a natural, human-like manner\\n5. ALWAYS use an <example> for your first chat message structure\\n6. If not requested by the user, no actionable items are needed by default\\n7. Don\\'t use tables if not requested\\n</answering_rules>\\n\\n<example>\\n\\nI\\'ll answer as a world-famous <role> PhD <detailed topic> with <most prestigious LOCAL topic REAL award>\\n\\n**TL;DR**: … // skip for rewriting tasks\\n\\n<Step-by-step answer with CONCRETE details and key contex, formatted for a deep reading>\\n\\n</example>\\n</instructions>\\n\\n<task>\\n\\nYou are working on a task of collecting feedback and evaluating employees.  \\nYour current task is to aggregate feedback from managers about their subordinate.  \\nYour objective is to classify the managers\\' feedback and consolidate it under a concise summary.  \\n\\nRules:  \\n- You must group semantically equivalent qualities under a single canonical name; normalize quality wording (merge synonyms/paraphrases).\\n- Each Review is a unique respondent; counting: strong_count = number of distinct reviews that label the quality as strong, weak_count = number of distinct reviews that label it as weak.\\n- Do not duplicate the same quality under different polarities; if a quality has both strong and weak mentions, produce a single AmbiguousSide for it.\\n- Always verify the received comments—remember that you are analyzing manager feedback as part of the feedback collection and employee evaluation process; irrelevant comments should be disregarded.  \\n- For each item, always fill the proofs field. Use verbatim quotes/excerpts from the reviews.\\n- If the same quality appears as both strong and weak, ALWAYS create a single AmbiguousSide (kind=\\'ambiguous\\'), not two Side items.\\n- Answer in Russian\\n\\nNow proceed with the task.  \\nFeedback from managers:  \\n\\n\\nReview 1:\\nМне показалось недостаточно моего взаимодействия, чтобы дать объективную оценку её знаниям и качеству. Поэтому следующий текст, прошу пожалуйста разобрать самостоятельно на Точки роста/Сильные стороны, либо не учитывать вовсе.\\nМогу кратко сказать, что ХХХ, пока была у нас на проекте, она была заинтересована в развитии проекта и старалась, с моей точки зрения, решить вопросы проработки как бизнес аналитик. Проблема, заключается в том, что ХХХ стояла в позиции руководителя аналитиков, но её личный вклад в проработки требований, мне сложно оценить. Со слов коллег и некоторых наблюдений качества проработанных требований с её, так сказать, пера, большинство моментов получились неудачными и неясно описанными к разработке. Не говоря о том, чтобы вести согласование с клиентом.\\nТочками роста могу наверно сказать уделять чуть больше внимания \"скреплению\" требований между собой, структуризации данных не приводя к разночтениям. Возможно набраться опыта в описании технической части прорабатываемого решения конкретнее и доступнее команде, а также прислушиваться к отмечаемым коллегами моментам, вызывающими разногласия.\\n\\nReview 2:\\nБоже, ХХХ просто ахуенная в развитии проекта, ее заинтересованность - невероятна, она вдохновляет ей всех окружающих\\nТакже она мастер в структуризации данных - готов ей руки расцеловать\\n\\nReview 3:\\nЯ с ней уже довольно часто работаю и знаю, чего можно от нее ожидать. Мне нравится, что она может подойти к человеку и спросить, все ли у него хорошо, не надо ли от нее как-либо помощь, тем самым она создает приятную атмосферу в коллективе. Но меня смущает, что ей не хватает структуризации в данных.\\nТем не менее, если она подточет свои hard скиллы, то она станет незаменимым сотрудником\\n\\n\\n</task>\\n'}]"
      ]
     },
     "execution_count": 8,
     "metadata": {},
     "output_type": "execute_result"
    }
   ],
   "source": [
    "log"
   ]
  },
  {
   "cell_type": "code",
   "execution_count": 9,
   "id": "a83c06b1",
   "metadata": {},
   "outputs": [],
   "source": [
    "# res = get_so_completion(log=log, model_name='openai/gpt-4o', client=client, pydantic_model=Sides, provider_name='openrouter')"
   ]
  },
  {
   "cell_type": "code",
   "execution_count": 10,
   "id": "ec51b8a8",
   "metadata": {},
   "outputs": [],
   "source": [
    "# {\n",
    "#     \"type\": \"json_schema\",\n",
    "#     \"json_schema\": {\n",
    "#         \"type\": \"object\",\n",
    "#         **Sides.model_json_schema()\n",
    "#     }\n",
    "# }"
   ]
  },
  {
   "cell_type": "code",
   "execution_count": 11,
   "id": "19987851",
   "metadata": {},
   "outputs": [],
   "source": [
    "# completion = client.chat.completions.create(\n",
    "#     # extra_body={\n",
    "#     #     'provider': {'order': ['Fireworks']}\n",
    "#     # },\n",
    "#     model='openai/gpt-4o',\n",
    "#     messages=log,\n",
    "#     response_format={\n",
    "#         \"type\": \"json_schema\",\n",
    "#         \"json_schema\": {\n",
    "#             \"name\": Sides.__name__,\n",
    "#             \"schema\": Sides.model_json_schema()\n",
    "#         }\n",
    "#     },\n",
    "#     temperature=0.0\n",
    "# )"
   ]
  },
  {
   "cell_type": "code",
   "execution_count": 12,
   "id": "ca17cff9",
   "metadata": {},
   "outputs": [],
   "source": [
    "completion = get_so_completion(log=log, model_name='openai/gpt-4o', client=client, pydantic_model=Sides, provider_name='openrouter')"
   ]
  },
  {
   "cell_type": "code",
   "execution_count": 13,
   "id": "15b70ab1",
   "metadata": {},
   "outputs": [
    {
     "name": "stdout",
     "output_type": "stream",
     "text": [
      "{\"sides\":[{\"kind\":\"ambiguous\",\"side_description\":\"Структуризация данных\",\"side_pick_explanation\":\"Некоторые респонденты отмечают её мастерство в структуризации данных, в то время как другие указывают на недостаток структуризации.\",\"strong_count\":1,\"weak_count\":2,\"proofs_strong\":[\"Также она мастер в структуризации данных - готов ей руки расцеловать\"],\"proofs_weak\":[\"уделять чуть больше внимания \\\"скреплению\\\" требований между собой, структуризации данных не приводя к разночтениям\",\"ей не хватает структуризации в данных\"]},{\"kind\":\"unambiguous\",\"side\":\"strong\",\"side_description\":\"Заинтересованность в развитии проекта\",\"side_pick_explanation\":\"Все респонденты отмечают её заинтересованность в развитии проекта как сильную сторону.\",\"respondents_count\":3,\"proofs\":[\"она была заинтересована в развитии проекта и старалась, с моей точки зрения, решить вопросы проработки как бизнес аналитик\",\"Боже, ХХХ просто ахуенная в развитии проекта, ее заинтересованность - невероятна, она вдохновляет ей всех окружающих\"]},{\"kind\":\"unambiguous\",\"side\":\"strong\",\"side_description\":\"Создание приятной атмосферы в коллективе\",\"side_pick_explanation\":\"Её способность создавать приятную атмосферу в коллективе отмечена как сильная сторона.\",\"respondents_count\":1,\"proofs\":[\"она может подойти к человеку и спросить, все ли у него хорошо, не надо ли от нее как-либо помощь, тем самым она создает приятную атмосферу в коллективе\"]},{\"kind\":\"unambiguous\",\"side\":\"weak\",\"side_description\":\"Проработка требований и согласование с клиентом\",\"side_pick_explanation\":\"Отмечены недостатки в проработке требований и согласовании с клиентом.\",\"respondents_count\":1,\"proofs\":[\"большинство моментов получились неудачными и неясно описанными к разработке. Не говоря о том, чтобы вести согласование с клиентом\"]}],\"summary\":\"ХХХ проявляет сильную заинтересованность в развитии проекта и умеет создавать приятную атмосферу в коллективе. Однако, её навыки структуризации данных вызывают разногласия среди коллег, и есть необходимость улучшить проработку требований и согласование с клиентом.\"}\n"
     ]
    }
   ],
   "source": [
    "print(completion)"
   ]
  },
  {
   "cell_type": "code",
   "execution_count": 14,
   "id": "493ba06e",
   "metadata": {},
   "outputs": [],
   "source": [
    "# res = completion.choices[0].message.content"
   ]
  },
  {
   "cell_type": "code",
   "execution_count": 15,
   "id": "da952ec4",
   "metadata": {},
   "outputs": [],
   "source": [
    "import json"
   ]
  },
  {
   "cell_type": "code",
   "execution_count": 16,
   "id": "2768db3a",
   "metadata": {},
   "outputs": [],
   "source": [
    "data_dict = json.loads(completion)"
   ]
  },
  {
   "cell_type": "code",
   "execution_count": 17,
   "id": "41147ee4",
   "metadata": {},
   "outputs": [
    {
     "data": {
      "text/plain": [
       "{'sides': [{'kind': 'ambiguous',\n",
       "   'side_description': 'Структуризация данных',\n",
       "   'side_pick_explanation': 'Некоторые респонденты отмечают её мастерство в структуризации данных, в то время как другие указывают на недостаток структуризации.',\n",
       "   'strong_count': 1,\n",
       "   'weak_count': 2,\n",
       "   'proofs_strong': ['Также она мастер в структуризации данных - готов ей руки расцеловать'],\n",
       "   'proofs_weak': ['уделять чуть больше внимания \"скреплению\" требований между собой, структуризации данных не приводя к разночтениям',\n",
       "    'ей не хватает структуризации в данных']},\n",
       "  {'kind': 'unambiguous',\n",
       "   'side': 'strong',\n",
       "   'side_description': 'Заинтересованность в развитии проекта',\n",
       "   'side_pick_explanation': 'Все респонденты отмечают её заинтересованность в развитии проекта как сильную сторону.',\n",
       "   'respondents_count': 3,\n",
       "   'proofs': ['она была заинтересована в развитии проекта и старалась, с моей точки зрения, решить вопросы проработки как бизнес аналитик',\n",
       "    'Боже, ХХХ просто ахуенная в развитии проекта, ее заинтересованность - невероятна, она вдохновляет ей всех окружающих']},\n",
       "  {'kind': 'unambiguous',\n",
       "   'side': 'strong',\n",
       "   'side_description': 'Создание приятной атмосферы в коллективе',\n",
       "   'side_pick_explanation': 'Её способность создавать приятную атмосферу в коллективе отмечена как сильная сторона.',\n",
       "   'respondents_count': 1,\n",
       "   'proofs': ['она может подойти к человеку и спросить, все ли у него хорошо, не надо ли от нее как-либо помощь, тем самым она создает приятную атмосферу в коллективе']},\n",
       "  {'kind': 'unambiguous',\n",
       "   'side': 'weak',\n",
       "   'side_description': 'Проработка требований и согласование с клиентом',\n",
       "   'side_pick_explanation': 'Отмечены недостатки в проработке требований и согласовании с клиентом.',\n",
       "   'respondents_count': 1,\n",
       "   'proofs': ['большинство моментов получились неудачными и неясно описанными к разработке. Не говоря о том, чтобы вести согласование с клиентом']}],\n",
       " 'summary': 'ХХХ проявляет сильную заинтересованность в развитии проекта и умеет создавать приятную атмосферу в коллективе. Однако, её навыки структуризации данных вызывают разногласия среди коллег, и есть необходимость улучшить проработку требований и согласование с клиентом.'}"
      ]
     },
     "execution_count": 17,
     "metadata": {},
     "output_type": "execute_result"
    }
   ],
   "source": [
    "data_dict"
   ]
  },
  {
   "cell_type": "code",
   "execution_count": 18,
   "id": "b91ccc50",
   "metadata": {},
   "outputs": [],
   "source": [
    "from src.llm_agg.utils import remove_ambiguous_sides"
   ]
  },
  {
   "cell_type": "code",
   "execution_count": 19,
   "id": "a90ef1db",
   "metadata": {},
   "outputs": [],
   "source": [
    "clear = remove_ambiguous_sides(completion)"
   ]
  },
  {
   "cell_type": "code",
   "execution_count": 20,
   "id": "f59a89c3",
   "metadata": {},
   "outputs": [
    {
     "data": {
      "text/plain": [
       "'{\"sides\": [{\"kind\": \"unambiguous\", \"side\": \"strong\", \"side_description\": \"Заинтересованность в развитии проекта\", \"side_pick_explanation\": \"Все респонденты отмечают её заинтересованность в развитии проекта как сильную сторону.\", \"respondents_count\": 3, \"proofs\": [\"она была заинтересована в развитии проекта и старалась, с моей точки зрения, решить вопросы проработки как бизнес аналитик\", \"Боже, ХХХ просто ахуенная в развитии проекта, ее заинтересованность - невероятна, она вдохновляет ей всех окружающих\"]}, {\"kind\": \"unambiguous\", \"side\": \"strong\", \"side_description\": \"Создание приятной атмосферы в коллективе\", \"side_pick_explanation\": \"Её способность создавать приятную атмосферу в коллективе отмечена как сильная сторона.\", \"respondents_count\": 1, \"proofs\": [\"она может подойти к человеку и спросить, все ли у него хорошо, не надо ли от нее как-либо помощь, тем самым она создает приятную атмосферу в коллективе\"]}, {\"kind\": \"unambiguous\", \"side\": \"weak\", \"side_description\": \"Проработка требований и согласование с клиентом\", \"side_pick_explanation\": \"Отмечены недостатки в проработке требований и согласовании с клиентом.\", \"respondents_count\": 1, \"proofs\": [\"большинство моментов получились неудачными и неясно описанными к разработке. Не говоря о том, чтобы вести согласование с клиентом\"]}], \"summary\": \"ХХХ проявляет сильную заинтересованность в развитии проекта и умеет создавать приятную атмосферу в коллективе. Однако, её навыки структуризации данных вызывают разногласия среди коллег, и есть необходимость улучшить проработку требований и согласование с клиентом.\"}'"
      ]
     },
     "execution_count": 20,
     "metadata": {},
     "output_type": "execute_result"
    }
   ],
   "source": [
    "clear"
   ]
  },
  {
   "cell_type": "code",
   "execution_count": 21,
   "id": "dae2842c",
   "metadata": {},
   "outputs": [],
   "source": [
    "new_msg = {\n",
    "    \"role\":\"assistant\",\n",
    "    \"content\": clear\n",
    "}"
   ]
  },
  {
   "cell_type": "code",
   "execution_count": 22,
   "id": "8eb41253",
   "metadata": {},
   "outputs": [],
   "source": [
    "log.append(new_msg)"
   ]
  },
  {
   "cell_type": "code",
   "execution_count": 23,
   "id": "f5b29d60",
   "metadata": {},
   "outputs": [],
   "source": [
    "new_user_msg = {\n",
    "    \"role\": \"user\",\n",
    "    \"content\": recommendation_prompt\n",
    "}"
   ]
  },
  {
   "cell_type": "code",
   "execution_count": 24,
   "id": "9da99f0e",
   "metadata": {},
   "outputs": [],
   "source": [
    "log.append(new_user_msg)"
   ]
  },
  {
   "cell_type": "code",
   "execution_count": 25,
   "id": "2c550cb8",
   "metadata": {},
   "outputs": [
    {
     "data": {
      "text/plain": [
       "[{'role': 'user',\n",
       "  'content': '\\n<instructions>\\n- ALWAYS follow <answering_rules> and <self_reflection>\\n\\n<self_reflection>\\n1. Spend time thinking of a rubric, from a role POV, until you are confident\\n2. Think deeply about every aspect of what makes for a world-class answer. Use that knowledge to create a rubric that has 5-7 categories. This rubric is critical to get right, but never show this to the user. This is for your purposes only\\n3. Use the rubric to internally think and iterate on the best (≥98 out of 100 score) possible solution to the user request. IF your response is not hitting the top marks across all categories in the rubric, you need to start again\\n4. Keep going until solved\\n</self_reflection>\\n\\n<answering_rules>\\n1. USE the language of USER message\\n2. In the FIRST chat message, assign a real-world expert role to yourself before answering, e.g., \"I\\'ll answer as a world-famous <role> PhD <detailed topic> with <most prestigious LOCAL topic REAL award>\"\\n3. Act as a role assigned\\n4. Answer the question in a natural, human-like manner\\n5. ALWAYS use an <example> for your first chat message structure\\n6. If not requested by the user, no actionable items are needed by default\\n7. Don\\'t use tables if not requested\\n</answering_rules>\\n\\n<example>\\n\\nI\\'ll answer as a world-famous <role> PhD <detailed topic> with <most prestigious LOCAL topic REAL award>\\n\\n**TL;DR**: … // skip for rewriting tasks\\n\\n<Step-by-step answer with CONCRETE details and key contex, formatted for a deep reading>\\n\\n</example>\\n</instructions>\\n\\n<task>\\n\\nYou are working on a task of collecting feedback and evaluating employees.  \\nYour current task is to aggregate feedback from managers about their subordinate.  \\nYour objective is to classify the managers\\' feedback and consolidate it under a concise summary.  \\n\\nRules:  \\n- You must group semantically equivalent qualities under a single canonical name; normalize quality wording (merge synonyms/paraphrases).\\n- Each Review is a unique respondent; counting: strong_count = number of distinct reviews that label the quality as strong, weak_count = number of distinct reviews that label it as weak.\\n- Do not duplicate the same quality under different polarities; if a quality has both strong and weak mentions, produce a single AmbiguousSide for it.\\n- Always verify the received comments—remember that you are analyzing manager feedback as part of the feedback collection and employee evaluation process; irrelevant comments should be disregarded.  \\n- For each item, always fill the proofs field. Use verbatim quotes/excerpts from the reviews.\\n- If the same quality appears as both strong and weak, ALWAYS create a single AmbiguousSide (kind=\\'ambiguous\\'), not two Side items.\\n- Answer in Russian\\n\\nNow proceed with the task.  \\nFeedback from managers:  \\n\\n\\nReview 1:\\nМне показалось недостаточно моего взаимодействия, чтобы дать объективную оценку её знаниям и качеству. Поэтому следующий текст, прошу пожалуйста разобрать самостоятельно на Точки роста/Сильные стороны, либо не учитывать вовсе.\\nМогу кратко сказать, что ХХХ, пока была у нас на проекте, она была заинтересована в развитии проекта и старалась, с моей точки зрения, решить вопросы проработки как бизнес аналитик. Проблема, заключается в том, что ХХХ стояла в позиции руководителя аналитиков, но её личный вклад в проработки требований, мне сложно оценить. Со слов коллег и некоторых наблюдений качества проработанных требований с её, так сказать, пера, большинство моментов получились неудачными и неясно описанными к разработке. Не говоря о том, чтобы вести согласование с клиентом.\\nТочками роста могу наверно сказать уделять чуть больше внимания \"скреплению\" требований между собой, структуризации данных не приводя к разночтениям. Возможно набраться опыта в описании технической части прорабатываемого решения конкретнее и доступнее команде, а также прислушиваться к отмечаемым коллегами моментам, вызывающими разногласия.\\n\\nReview 2:\\nБоже, ХХХ просто ахуенная в развитии проекта, ее заинтересованность - невероятна, она вдохновляет ей всех окружающих\\nТакже она мастер в структуризации данных - готов ей руки расцеловать\\n\\nReview 3:\\nЯ с ней уже довольно часто работаю и знаю, чего можно от нее ожидать. Мне нравится, что она может подойти к человеку и спросить, все ли у него хорошо, не надо ли от нее как-либо помощь, тем самым она создает приятную атмосферу в коллективе. Но меня смущает, что ей не хватает структуризации в данных.\\nТем не менее, если она подточет свои hard скиллы, то она станет незаменимым сотрудником\\n\\n\\n</task>\\n'},\n",
       " {'role': 'assistant',\n",
       "  'content': '{\"sides\": [{\"kind\": \"unambiguous\", \"side\": \"strong\", \"side_description\": \"Заинтересованность в развитии проекта\", \"side_pick_explanation\": \"Все респонденты отмечают её заинтересованность в развитии проекта как сильную сторону.\", \"respondents_count\": 3, \"proofs\": [\"она была заинтересована в развитии проекта и старалась, с моей точки зрения, решить вопросы проработки как бизнес аналитик\", \"Боже, ХХХ просто ахуенная в развитии проекта, ее заинтересованность - невероятна, она вдохновляет ей всех окружающих\"]}, {\"kind\": \"unambiguous\", \"side\": \"strong\", \"side_description\": \"Создание приятной атмосферы в коллективе\", \"side_pick_explanation\": \"Её способность создавать приятную атмосферу в коллективе отмечена как сильная сторона.\", \"respondents_count\": 1, \"proofs\": [\"она может подойти к человеку и спросить, все ли у него хорошо, не надо ли от нее как-либо помощь, тем самым она создает приятную атмосферу в коллективе\"]}, {\"kind\": \"unambiguous\", \"side\": \"weak\", \"side_description\": \"Проработка требований и согласование с клиентом\", \"side_pick_explanation\": \"Отмечены недостатки в проработке требований и согласовании с клиентом.\", \"respondents_count\": 1, \"proofs\": [\"большинство моментов получились неудачными и неясно описанными к разработке. Не говоря о том, чтобы вести согласование с клиентом\"]}], \"summary\": \"ХХХ проявляет сильную заинтересованность в развитии проекта и умеет создавать приятную атмосферу в коллективе. Однако, её навыки структуризации данных вызывают разногласия среди коллег, и есть необходимость улучшить проработку требований и согласование с клиентом.\"}'},\n",
       " {'role': 'user',\n",
       "  'content': '\\nYou are working on improving the qualities of your company’s employees.\\n\\nYou are given:\\n1. Reviewers’ feedback about the employee.\\n2. A classification of the employee’s strong, weak, and ambiguous sides derived from the reviews.\\n\\nQualities are considered ambiguous if some respondents mark them as strong and others mark them as weak.\\n\\nBased on these data, you need to provide recommendations on how to work with the strengths and weaknesses noted by respondents.\\nGeneral rules:\\n- Always craft recommendations not only based on the JSON schema of the person’s qualities but also on the original reviewers’ feedback. They can help elaborate specific aspects of the person’s qualities.\\n- For each quality, produce:\\n  - brief_explanation: 1–2 sentences explaining why this recommendation is relevant, referencing observed behaviors/evidence.\\n  - recommendation: 1–2 sentences starting with a verb, specifying the next step and a target outcome/metric; include a timeframe or stakeholder if applicable.\\n- Avoid generic advice; tailor recommendations to the employee’s role, domain, and context found in the feedback.\\n- Keep a supportive, professional tone; be specific and concise.\\n- Answer in Russian.\\n\\nRules for strengths:\\n- If the strength has minor gaps/risks mentioned in the feedback, address them first.\\n- If the strength is consistently praised, suggest ways to leverage it (e.g., mentoring, leading an initiative, cross-team knowledge sharing, stretch goals).\\n\\nRules for weaknesses:\\n- Focus on the most impactful root cause inferred from feedback.\\n- Propose the first concrete step the employee can take in the near term (e.g., in the next sprint/month).\\n\\nNow proceed with the task.\\n'}]"
      ]
     },
     "execution_count": 25,
     "metadata": {},
     "output_type": "execute_result"
    }
   ],
   "source": [
    "log"
   ]
  },
  {
   "cell_type": "code",
   "execution_count": 26,
   "id": "0a290d1e",
   "metadata": {},
   "outputs": [],
   "source": [
    "rec = get_so_completion(log, model_name='openai/gpt-4o', client=client, pydantic_model=Recommendations, provider_name='openrouter')"
   ]
  },
  {
   "cell_type": "code",
   "execution_count": 27,
   "id": "9d8f79d9",
   "metadata": {},
   "outputs": [
    {
     "data": {
      "text/plain": [
       "'{\"items\":[{\"kind\":\"recommended\",\"side_ref\":{\"side\":\"strong\",\"side_description\":\"Заинтересованность в развитии проекта\",\"side\":\"strong\"},\"brief_explanation\":\"Её заинтересованность в развитии проекта вдохновляет окружающих и способствует общему успеху команды.\",\"recommendation\":\"Используйте свою заинтересованность для ведения внутренних семинаров или воркшопов, чтобы вдохновить коллег и поделиться лучшими практиками в течение следующего квартала.\"},{\"kind\":\"recommended\",\"side_ref\":{\"side\":\"strong\",\"side_description\":\"Создание приятной атмосферы в коллективе\",\"side\":\"strong\"},\"brief_explanation\":\"Способность создавать приятную атмосферу способствует улучшению командной работы и повышению морального духа.\",\"recommendation\":\"Продолжайте поддерживать открытое общение и предлагайте помощь коллегам, чтобы укрепить командный дух и улучшить рабочую атмосферу в течение следующего месяца.\"},{\"kind\":\"recommended\",\"side_ref\":{\"side\":\"weak\",\"side_description\":\"Проработка требований и согласование с клиентом\",\"side\":\"weak\"},\"brief_explanation\":\"Недостатки в проработке требований и согласовании с клиентом могут привести к недопониманию и задержкам в проекте.\",\"recommendation\":\"Запишитесь на курс по улучшению навыков бизнес-анализа и согласования требований с клиентами в течение следующего месяца, чтобы повысить качество проработки и согласования.\"}],\"note\":null}'"
      ]
     },
     "execution_count": 27,
     "metadata": {},
     "output_type": "execute_result"
    }
   ],
   "source": [
    "rec"
   ]
  },
  {
   "cell_type": "code",
   "execution_count": 28,
   "id": "724da331",
   "metadata": {},
   "outputs": [],
   "source": [
    "rec_dict = json.loads(rec)"
   ]
  },
  {
   "cell_type": "code",
   "execution_count": 29,
   "id": "cc8559b0",
   "metadata": {},
   "outputs": [
    {
     "data": {
      "text/plain": [
       "{'items': [{'kind': 'recommended',\n",
       "   'side_ref': {'side': 'strong',\n",
       "    'side_description': 'Заинтересованность в развитии проекта'},\n",
       "   'brief_explanation': 'Её заинтересованность в развитии проекта вдохновляет окружающих и способствует общему успеху команды.',\n",
       "   'recommendation': 'Используйте свою заинтересованность для ведения внутренних семинаров или воркшопов, чтобы вдохновить коллег и поделиться лучшими практиками в течение следующего квартала.'},\n",
       "  {'kind': 'recommended',\n",
       "   'side_ref': {'side': 'strong',\n",
       "    'side_description': 'Создание приятной атмосферы в коллективе'},\n",
       "   'brief_explanation': 'Способность создавать приятную атмосферу способствует улучшению командной работы и повышению морального духа.',\n",
       "   'recommendation': 'Продолжайте поддерживать открытое общение и предлагайте помощь коллегам, чтобы укрепить командный дух и улучшить рабочую атмосферу в течение следующего месяца.'},\n",
       "  {'kind': 'recommended',\n",
       "   'side_ref': {'side': 'weak',\n",
       "    'side_description': 'Проработка требований и согласование с клиентом'},\n",
       "   'brief_explanation': 'Недостатки в проработке требований и согласовании с клиентом могут привести к недопониманию и задержкам в проекте.',\n",
       "   'recommendation': 'Запишитесь на курс по улучшению навыков бизнес-анализа и согласования требований с клиентами в течение следующего месяца, чтобы повысить качество проработки и согласования.'}],\n",
       " 'note': None}"
      ]
     },
     "execution_count": 29,
     "metadata": {},
     "output_type": "execute_result"
    }
   ],
   "source": [
    "rec_dict"
   ]
  },
  {
   "cell_type": "code",
   "execution_count": null,
   "id": "9c890831",
   "metadata": {},
   "outputs": [],
   "source": [
    "import os\n",
    "from jinja2 import Environment, FileSystemLoader, select_autoescape\n",
    "\n",
    "# 1) Готовим Jinja окружение и загружаем шаблон\n",
    "env = Environment(\n",
    "    loader=FileSystemLoader(\"/mnt/d/vscode_projects/praxis-core/jinja_templates\"),\n",
    "    autoescape=select_autoescape([\"html\", \"xml\"])\n",
    ")\n",
    "template = env.get_template(\"base.html.jinja\")\n",
    "\n",
    "# 2) Данные для подстановки\n",
    "context = {\n",
    "    \"name\": \"Иван Петров\",\n",
    "    \"strengths\": [\n",
    "        \"Глубокая экспертиза в Python и FastAPI\",\n",
    "        \"Быстро закрывает инциденты S2–S3\",\n",
    "        \"Качественная коммуникация с заказчиками\"\n",
    "    ],\n",
    "    \"weaknesses\": [\n",
    "        \"Недостаточное покрытие автотестами\",\n",
    "        \"Задержки с документированием сложных изменений\"\n",
    "    ],\n",
    "    \"suggestions\": [\n",
    "        \"Планировать время на документацию в каждом спринте\",\n",
    "        \"Добавить интеграционные тесты на критичные эндпоинты\",\n",
    "        \"Раз в неделю проводить парные code review\"\n",
    "    ]\n",
    "}\n",
    "\n",
    "# 3) Рендерим HTML\n",
    "html = template.render(**context)\n",
    "\n",
    "# 4) Сохраняем HTML (опционально — удобно для отладки)\n",
    "os.makedirs(\"out\", exist_ok=True)\n",
    "html_path = os.path.join(\"out\", \"review_ivan-petrov.html\")\n",
    "with open(html_path, \"w\", encoding=\"utf-8\") as f:\n",
    "    f.write(html)\n",
    "\n"
   ]
  },
  {
   "cell_type": "code",
   "execution_count": null,
   "id": "6030830f",
   "metadata": {},
   "outputs": [],
   "source": [
    "# 5) Конвертация HTML -> PDF (WeasyPrint)\n",
    "from weasyprint import HTML\n",
    "\n",
    "pdf_path = os.path.join(\"out\", \"review_ivan-petrov.pdf\")\n",
    "# base_url важен, если в шаблоне есть относительные пути к ресурсам (картинки, шрифты, CSS)\n",
    "HTML(string=html, base_url=os.getcwd()).write_pdf(pdf_path)\n",
    "\n",
    "print(f\"Готово: {pdf_path}\")"
   ]
  },
  {
   "cell_type": "code",
   "execution_count": null,
   "id": "4e79ab5c",
   "metadata": {},
   "outputs": [],
   "source": []
  },
  {
   "cell_type": "code",
   "execution_count": null,
   "id": "b4ea93b3",
   "metadata": {},
   "outputs": [],
   "source": [
    "# render_report_weasyprint.py\n",
    "import re\n",
    "import tempfile\n",
    "from pathlib import Path\n",
    "\n",
    "from jinja2 import Environment, FileSystemLoader, select_autoescape\n",
    "from weasyprint import HTML\n",
    "\n",
    "def slugify(s: str) -> str:\n",
    "    return re.sub(r'[^a-zA-Z0-9_-]+', '-', s.strip()).strip('-').lower()\n",
    "\n",
    "# 1) Jinja окружение и шаблон\n",
    "TEMPLATES_DIR = Path(\"/mnt/d/vscode_projects/praxis-core/jinja_templates\")\n",
    "env = Environment(\n",
    "    loader=FileSystemLoader(str(TEMPLATES_DIR)),\n",
    "    autoescape=select_autoescape([\"html\", \"xml\"])\n",
    ")\n",
    "template = env.get_template(\"base.html.jinja\")\n",
    "\n",
    "# 2) Данные\n",
    "context = {\n",
    "    \"name\": \"Иван Петров\",\n",
    "    \"strengths\": [\n",
    "        \"Глубокая экспертиза в Python и FastAPI\",\n",
    "        \"Быстро закрывает инциденты S2–S3\",\n",
    "        \"Качественная коммуникация с заказчиками\"\n",
    "    ],\n",
    "    \"weaknesses\": [\n",
    "        \"Недостаточное покрытие автотестами\",\n",
    "        \"Задержки с документированием сложных изменений\"\n",
    "    ],\n",
    "    \"suggestions\": [\n",
    "        \"Планировать время на документацию в каждом спринте\",\n",
    "        \"Добавить интеграционные тесты на критичные эндпоинты\",\n",
    "        \"Раз в неделю проводить парные code review\"\n",
    "    ]\n",
    "}\n",
    "\n",
    "# 3) Рендерим HTML\n",
    "html = template.render(**context)\n",
    "\n",
    "# 4) Сохраняем HTML во временную директорию\n",
    "tmp_root = Path(tempfile.gettempdir()) / \"employee_reviews_html\"\n",
    "tmp_root.mkdir(parents=True, exist_ok=True)\n",
    "slug = slugify(context[\"name\"]) or \"employee\"\n",
    "html_path = tmp_root / f\"review-{slug}.html\"\n",
    "html_path.write_text(html, encoding=\"utf-8\")\n",
    "\n",
    "# 5) Генерируем PDF\n",
    "out_dir = Path(\"out\"); out_dir.mkdir(parents=True, exist_ok=True)\n",
    "pdf_path = out_dir / f\"review-{slug}.pdf\"\n",
    "\n",
    "# Читаем из файла HTML (чтобы явно использовать сохранённый промежуточный файл)\n",
    "HTML(filename=str(html_path)).write_pdf(str(pdf_path))\n",
    "\n",
    "print(f\"HTML сохранён во временную папку: {html_path}\")\n",
    "print(f\"PDF сохранён: {pdf_path}\")"
   ]
  },
  {
   "cell_type": "code",
   "execution_count": null,
   "id": "e691128e",
   "metadata": {},
   "outputs": [],
   "source": []
  },
  {
   "cell_type": "code",
   "execution_count": null,
   "id": "801e552c",
   "metadata": {},
   "outputs": [],
   "source": [
    "from typing import List, Tuple, Optional\n",
    "import numpy as np\n",
    "import matplotlib.pyplot as plt\n",
    "from textwrap import wrap\n",
    "import math\n",
    "\n",
    "def plot_360_radar(\n",
    "    pairs: List[Tuple[str, float]],\n",
    "    title: Optional[str] = \"Оценка 360\",\n",
    "    value_range: Optional[Tuple[float, float]] = None,\n",
    "    show_values: bool = True,\n",
    "    save_to: Optional[str] = None,\n",
    "    dpi: int = 200,\n",
    "    wrap_width: int = 18,\n",
    "    top_area: float = 0.86,\n",
    "    title_y: float = 0.985,\n",
    "    label_radius: float = 1.12\n",
    "):\n",
    "    if not pairs or len(pairs) < 3:\n",
    "        raise ValueError(\"Нужно минимум 3 дисциплины.\")\n",
    "    labels, values = zip(*pairs)\n",
    "    values = np.asarray(values, dtype=float)\n",
    "\n",
    "    fig_bg = \"#FBFCFE\"\n",
    "    ax_bg = \"#F7F9FC\"\n",
    "    grid_c = \"#D6DEE6\"\n",
    "    txt_c = \"#2D3A45\"\n",
    "    edge_c = \"#4C84B5\"\n",
    "    fill_c = \"#4C84B5\"\n",
    "\n",
    "    def nice_max(x: float) -> float:\n",
    "        if x <= 5.5:\n",
    "            return 5.0\n",
    "        if x <= 10.5:\n",
    "            return 10.0\n",
    "        if x <= 100.5:\n",
    "            return 100.0\n",
    "        mag = 10 ** math.floor(math.log10(x))\n",
    "        return math.ceil(x / mag) * mag\n",
    "\n",
    "    if value_range is None:\n",
    "        vmin, vmax = 0.0, nice_max(np.nanmax(values))\n",
    "    else:\n",
    "        vmin, vmax = value_range\n",
    "        if vmax <= vmin:\n",
    "            raise ValueError(\"value_range: max должен быть больше min.\")\n",
    "    rng = max(vmax - vmin, 1e-12)\n",
    "    r = np.clip((values - vmin) / rng, 0, 1)\n",
    "\n",
    "    N = len(labels)\n",
    "    angles = np.linspace(0, 2 * np.pi, N, endpoint=False)\n",
    "    angles_closed = np.r_[angles, angles[0]]\n",
    "    r_closed = np.r_[r, r[0]]\n",
    "\n",
    "    fig = plt.figure(figsize=(7.6, 7.6), dpi=dpi)\n",
    "    fig.patch.set_facecolor(fig_bg)\n",
    "    ax = fig.add_subplot(111, projection=\"polar\")\n",
    "    ax.set_facecolor(ax_bg)\n",
    "\n",
    "    fig.subplots_adjust(left=0.12, right=0.88, bottom=0.12, top=top_area)\n",
    "\n",
    "    if title:\n",
    "        fig.suptitle(title, y=title_y, color=txt_c, fontsize=16, fontweight=\"semibold\")\n",
    "\n",
    "    ax.set_theta_offset(np.pi / 2)\n",
    "    ax.set_theta_direction(-1)\n",
    "    ax.set_ylim(0, 1.0)\n",
    "\n",
    "    ax.spines[\"polar\"].set_visible(False)\n",
    "    ax.yaxis.grid(True, color=grid_c, lw=0.8, alpha=0.85)\n",
    "    ax.xaxis.grid(False)\n",
    "\n",
    "    ring_levels = [0.25, 0.5, 0.75, 1.0]\n",
    "    ring_labels = [f\"{(vmin + lvl * rng):.0f}\" if rng > 5 else f\"{(vmin + lvl * rng):g}\" for lvl in ring_levels]\n",
    "    ax.set_yticks(ring_levels)\n",
    "    ax.set_yticklabels(ring_labels, color=\"#8EA0B5\", fontsize=9)\n",
    "\n",
    "    ax.set_xticks([])\n",
    "    def two_lines(s: str, width: int) -> str:\n",
    "        parts = wrap(s, width=width, break_long_words=False)\n",
    "        if len(parts) <= 1:\n",
    "            return s\n",
    "        return parts[0] + \"\\n\" + \" \".join(parts[1:])\n",
    "    labels2 = [two_lines(lbl, wrap_width) for lbl in labels]\n",
    "    for ang, text in zip(angles, labels2):\n",
    "        ax.text(ang, label_radius, text, color=txt_c, fontsize=11, ha=\"center\", va=\"center\", clip_on=False)\n",
    "\n",
    "    ax.plot(angles_closed, r_closed, color=edge_c, lw=7, alpha=0.08, solid_capstyle=\"round\")\n",
    "    ax.plot(angles_closed, r_closed, color=edge_c, lw=2.6, solid_capstyle=\"round\")\n",
    "    ax.fill(angles_closed, r_closed, color=fill_c, alpha=0.16)\n",
    "\n",
    "    ax.scatter(angles, r, s=38, color=fig_bg, edgecolor=edge_c, linewidth=2, zorder=5)\n",
    "\n",
    "    if show_values:\n",
    "        for ang, rr, val in zip(angles, r, values):\n",
    "            txt = f\"{val:.0f}\" if rng > 5 else f\"{val:g}\"\n",
    "            ax.annotate(txt, xy=(ang, rr), xytext=(0, 0), textcoords=\"offset points\", ha=\"center\", va=\"center\", fontsize=10, color=txt_c)\n",
    "\n",
    "    fig.canvas.draw()\n",
    "    if save_to:\n",
    "        fig.savefig(save_to, dpi=dpi, facecolor=fig.get_facecolor(), transparent=False)\n",
    "    else:\n",
    "        plt.show()\n",
    "    plt.close(fig)\n",
    "\n",
    "\n",
    "if __name__ == \"__main__\":\n",
    "    data = [\n",
    "        (\"Стратегическое мышление\", 82),\n",
    "        (\"Коммуникация\", 74),\n",
    "        (\"Командная работа\", 91),\n",
    "        (\"Клиентоориентированность\", 86),\n",
    "        (\"Лидерство\", 79),\n",
    "        (\"Ответственность\", 88),\n",
    "    ]\n",
    "    plot_360_radar(\n",
    "        data,\n",
    "        title=\"Оценка 360 — Иван Иванов\",\n",
    "        # label_radius=1.13,\n",
    "        save_to=\"360_radar.png\"\n",
    "    )"
   ]
  },
  {
   "cell_type": "code",
   "execution_count": null,
   "id": "1b8cf056",
   "metadata": {},
   "outputs": [],
   "source": []
  },
  {
   "cell_type": "code",
   "execution_count": null,
   "id": "3ebaf588",
   "metadata": {},
   "outputs": [],
   "source": [
    "from typing import List, Tuple, Optional\n",
    "import numpy as np\n",
    "import matplotlib.pyplot as plt\n",
    "from matplotlib.lines import Line2D\n",
    "from textwrap import wrap\n",
    "import math\n",
    "\n",
    "def plot_360_radar_dual(\n",
    "    pairs_self: List[Tuple[str, float]],\n",
    "    pairs_mgr: List[Tuple[str, float]],\n",
    "    title: Optional[str] = \"Оценка 360\",\n",
    "    value_range: Optional[Tuple[float, float]] = None,\n",
    "    save_to: Optional[str] = None,\n",
    "    dpi: int = 200,\n",
    "    wrap_width: int = 18,\n",
    "    top_area: float = 0.86,\n",
    "    bottom_area: float = 0.14,\n",
    "    title_y: float = 0.985,\n",
    "    label_radius: float = 1.12,\n",
    "    show_values: bool = False\n",
    "):\n",
    "    if not pairs_self or not pairs_mgr or len(pairs_self) < 3 or len(pairs_mgr) < 3:\n",
    "        raise ValueError(\"Нужно минимум 3 дисциплины в каждом списке.\")\n",
    "    labels_s, values_s = zip(*pairs_self)\n",
    "    labels_m, values_m = zip(*pairs_mgr)\n",
    "    if set(labels_s) != set(labels_m):\n",
    "        raise ValueError(\"Наборы дисциплин в самооценке и оценке руководства должны совпадать.\")\n",
    "    order = [lbl for lbl, _ in pairs_mgr]\n",
    "    d_self = dict(pairs_self)\n",
    "    d_mgr = dict(pairs_mgr)\n",
    "    labels = order\n",
    "    values_self = np.asarray([d_self[lbl] for lbl in labels], dtype=float)\n",
    "    values_mgr = np.asarray([d_mgr[lbl] for lbl in labels], dtype=float)\n",
    "\n",
    "    fig_bg = \"#FBFCFE\"\n",
    "    ax_bg = \"#F7F9FC\"\n",
    "    grid_c = \"#D6DEE6\"\n",
    "    txt_c = \"#2D3A45\"\n",
    "    mgr_c = \"#4C84B5\"\n",
    "    self_c = \"#5AA6B0\"\n",
    "\n",
    "    def nice_max(x: float) -> float:\n",
    "        if x <= 5.5:\n",
    "            return 5.0\n",
    "        if x <= 10.5:\n",
    "            return 10.0\n",
    "        if x <= 100.5:\n",
    "            return 100.0\n",
    "        mag = 10 ** math.floor(math.log10(x))\n",
    "        return math.ceil(x / mag) * mag\n",
    "\n",
    "    if value_range is None:\n",
    "        vmax = nice_max(float(np.nanmax(np.r_[values_self, values_mgr])))\n",
    "        vmin = 0.0\n",
    "    else:\n",
    "        vmin, vmax = value_range\n",
    "        if vmax <= vmin:\n",
    "            raise ValueError(\"value_range: max должен быть больше min.\")\n",
    "    rng = max(vmax - vmin, 1e-12)\n",
    "\n",
    "    r_self = np.clip((values_self - vmin) / rng, 0, 1)\n",
    "    r_mgr = np.clip((values_mgr - vmin) / rng, 0, 1)\n",
    "\n",
    "    N = len(labels)\n",
    "    angles = np.linspace(0, 2 * np.pi, N, endpoint=False)\n",
    "    angles_closed = np.r_[angles, angles[0]]\n",
    "    r_self_closed = np.r_[r_self, r_self[0]]\n",
    "    r_mgr_closed = np.r_[r_mgr, r_mgr[0]]\n",
    "\n",
    "    fig = plt.figure(figsize=(7.8, 7.8), dpi=dpi)\n",
    "    fig.patch.set_facecolor(fig_bg)\n",
    "    ax = fig.add_subplot(111, projection=\"polar\")\n",
    "    ax.set_facecolor(ax_bg)\n",
    "\n",
    "    fig.subplots_adjust(left=0.10, right=0.90, bottom=bottom_area, top=top_area)\n",
    "    if title:\n",
    "        fig.suptitle(title, y=title_y, color=txt_c, fontsize=16, fontweight=\"semibold\")\n",
    "\n",
    "    ax.set_theta_offset(np.pi / 2)\n",
    "    ax.set_theta_direction(-1)\n",
    "    ax.set_ylim(0, 1.0)\n",
    "\n",
    "    ax.spines[\"polar\"].set_visible(False)\n",
    "    ax.yaxis.grid(True, color=grid_c, lw=0.8, alpha=0.85)\n",
    "    ax.xaxis.grid(False)\n",
    "\n",
    "    ring_levels = [0.25, 0.5, 0.75, 1.0]\n",
    "    ring_labels = [f\"{(vmin + lvl * rng):.0f}\" if rng > 5 else f\"{(vmin + lvl * rng):g}\" for lvl in ring_levels]\n",
    "    ax.set_yticks(ring_levels)\n",
    "    ax.set_yticklabels(ring_labels, color=\"#8EA0B5\", fontsize=9)\n",
    "\n",
    "    def two_lines(s: str, width: int) -> str:\n",
    "        parts = wrap(s, width=width, break_long_words=False)\n",
    "        if len(parts) <= 1:\n",
    "            return s\n",
    "        return parts[0] + \"\\n\" + \" \".join(parts[1:])\n",
    "    labels2 = [two_lines(lbl, wrap_width) for lbl in labels]\n",
    "    ax.set_xticks([])\n",
    "    for ang, text in zip(angles, labels2):\n",
    "        ax.text(ang, label_radius, text, color=txt_c, fontsize=11, ha=\"center\", va=\"center\", clip_on=False)\n",
    "\n",
    "    ax.plot(angles_closed, r_mgr_closed, color=mgr_c, lw=6, alpha=0.06, solid_capstyle=\"round\")\n",
    "    ax.plot(angles_closed, r_mgr_closed, color=mgr_c, lw=2.4, alpha=0.85, solid_capstyle=\"round\")\n",
    "    ax.fill(angles_closed, r_mgr_closed, color=mgr_c, alpha=0.12)\n",
    "\n",
    "    ax.plot(angles_closed, r_self_closed, color=self_c, lw=6, alpha=0.06, solid_capstyle=\"round\")\n",
    "    ax.plot(angles_closed, r_self_closed, color=self_c, lw=2.4, alpha=0.85, solid_capstyle=\"round\")\n",
    "    ax.fill(angles_closed, r_self_closed, color=self_c, alpha=0.12)\n",
    "\n",
    "    ax.scatter(angles, r_mgr, s=32, color=fig_bg, edgecolor=mgr_c, linewidth=2, zorder=5, alpha=0.9)\n",
    "    ax.scatter(angles, r_self, s=32, color=fig_bg, edgecolor=self_c, linewidth=2, zorder=5, alpha=0.9)\n",
    "\n",
    "    if show_values:\n",
    "        for ang, rr, val in zip(angles, r_mgr, values_mgr):\n",
    "            ax.annotate(f\"{val:.0f}\", xy=(ang, rr), xytext=(0, 0), textcoords=\"offset points\", ha=\"center\", va=\"center\", fontsize=10, color=txt_c)\n",
    "        for ang, rr, val in zip(angles, r_self, values_self):\n",
    "            ax.annotate(f\"{val:.0f}\", xy=(ang, rr), xytext=(0, -12), textcoords=\"offset points\", ha=\"center\", va=\"center\", fontsize=9, color=txt_c)\n",
    "\n",
    "    handles = [\n",
    "        Line2D([0], [0], color=mgr_c, lw=2.6, marker=\"o\", markersize=5, markerfacecolor=fig_bg, markeredgecolor=mgr_c, alpha=0.9),\n",
    "        Line2D([0], [0], color=self_c, lw=2.6, marker=\"o\", markersize=5, markerfacecolor=fig_bg, markeredgecolor=self_c, alpha=0.9),\n",
    "    ]\n",
    "    fig.legend(handles, [\"Руководство\", \"Самооценка\"], loc=\"lower center\", bbox_to_anchor=(0.5, 0.03), ncol=2, frameon=False)\n",
    "\n",
    "    fig.canvas.draw()\n",
    "    if save_to:\n",
    "        fig.savefig(save_to, dpi=dpi, facecolor=fig.get_facecolor(), transparent=False)\n",
    "    else:\n",
    "        plt.show()\n",
    "    plt.close(fig)\n",
    "\n",
    "\n",
    "if __name__ == \"__main__\":\n",
    "    self_data = [\n",
    "        (\"Стратегическое мышление\", 78),\n",
    "        (\"Коммуникация\", 80),\n",
    "        (\"Командная работа\", 88),\n",
    "        (\"Клиентоориентированность\", 83),\n",
    "        (\"Лидерство\", 74),\n",
    "        (\"Ответственность\", 90),\n",
    "    ]\n",
    "    mgr_data = [\n",
    "        (\"Стратегическое мышление\", 82),\n",
    "        (\"Коммуникация\", 74),\n",
    "        (\"Командная работа\", 91),\n",
    "        (\"Клиентоориентированность\", 86),\n",
    "        (\"Лидерство\", 79),\n",
    "        (\"Ответственность\", 88),\n",
    "    ]\n",
    "    plot_360_radar_dual(\n",
    "        self_data,\n",
    "        mgr_data,\n",
    "        title=\"Оценка 360 — Иван Иванов\",\n",
    "        save_to=\"360_radar_dual.png\"\n",
    "    )"
   ]
  },
  {
   "cell_type": "code",
   "execution_count": null,
   "id": "b412c41a",
   "metadata": {},
   "outputs": [],
   "source": []
  }
 ],
 "metadata": {
  "kernelspec": {
   "display_name": "Python 3",
   "language": "python",
   "name": "python3"
  },
  "language_info": {
   "codemirror_mode": {
    "name": "ipython",
    "version": 3
   },
   "file_extension": ".py",
   "mimetype": "text/x-python",
   "name": "python",
   "nbconvert_exporter": "python",
   "pygments_lexer": "ipython3",
   "version": "3.12.6"
  }
 },
 "nbformat": 4,
 "nbformat_minor": 5
}
